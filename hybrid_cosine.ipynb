{
 "cells": [
  {
   "cell_type": "markdown",
   "id": "d9e61943",
   "metadata": {},
   "source": [
    "# <font color=\"BlueViolet\">Hybrid cosine method"
   ]
  },
  {
   "cell_type": "code",
   "execution_count": 1,
   "id": "f9b085bc",
   "metadata": {},
   "outputs": [],
   "source": [
    "# nb-cosine2.ipynb"
   ]
  },
  {
   "cell_type": "code",
   "execution_count": 2,
   "id": "aa56cf88",
   "metadata": {},
   "outputs": [
    {
     "name": "stdout",
     "output_type": "stream",
     "text": [
      ".\\cache\\2019-Nov.csv\n",
      ".\\cache\\2019-Oct.csv\n"
     ]
    }
   ],
   "source": [
    "import sys\n",
    "import numpy as np\n",
    "import pandas as pd\n",
    "import time\n",
    "import random\n",
    "from sklearn.model_selection import train_test_split\n",
    "from sklearn.metrics import mean_squared_error\n",
    "from math import sqrt\n",
    "from sklearn.metrics.pairwise import pairwise_distances\n",
    "from scipy.spatial import distance\n",
    "from random import randint, seed\n",
    "from settings import *\n",
    "from user_func import toratings, prdf"
   ]
  },
  {
   "cell_type": "code",
   "execution_count": 3,
   "id": "732aa2c1",
   "metadata": {},
   "outputs": [
    {
     "name": "stdout",
     "output_type": "stream",
     "text": [
      "System version: 3.9.16 (main, Mar  8 2023, 10:39:24) [MSC v.1916 64 bit (AMD64)]\n",
      "Pandas version: 1.5.3\n",
      "Numpy version:  1.23.5\n"
     ]
    }
   ],
   "source": [
    "print(f'System version: {sys.version}')\n",
    "print(f'Pandas version: {pd.__version__}')\n",
    "print(f'Numpy version:  {np.__version__}')"
   ]
  },
  {
   "cell_type": "code",
   "execution_count": 4,
   "id": "13e8d057",
   "metadata": {},
   "outputs": [],
   "source": [
    "start_time = time.time()"
   ]
  },
  {
   "cell_type": "code",
   "execution_count": 5,
   "id": "fb644146",
   "metadata": {},
   "outputs": [],
   "source": [
    "#pd.options.display.float_format = \"{:,.2f}\".format\n",
    "DEBUG=False\n",
    "seed(42)\n",
    "pd.options.display.float_format = \"{:,.2f}\".format"
   ]
  },
  {
   "cell_type": "code",
   "execution_count": 6,
   "id": "cc7bfc26",
   "metadata": {},
   "outputs": [],
   "source": [
    "def rmse(prediction, ground_truth):\n",
    "    # Оставим оценки, предсказанные алгоритмом, только для соотвествующего набора данных\n",
    "\n",
    "    prediction = np.nan_to_num(prediction)[ground_truth.nonzero()].flatten()\n",
    "    # Оставим оценки, которые реально поставил пользователь, только для соотвествующего набора данных\n",
    "\n",
    "    ground_truth = np.nan_to_num(ground_truth)[ground_truth.nonzero()].flatten()\n",
    "    \n",
    "    mse = mean_squared_error(prediction, ground_truth)\n",
    "    return sqrt(mse)"
   ]
  },
  {
   "cell_type": "code",
   "execution_count": 7,
   "id": "6bcb0836",
   "metadata": {},
   "outputs": [],
   "source": [
    "# User-based collaborative filtering\n",
    "def naive_predict(top):\n",
    "    # Структура для хранения для каждого пользователя оценки категорий top наиболее похожих на него пользователей:\n",
    "    # top_similar_ratings[0][1] - оценки всех категорий одного из наиболее похожих пользователей на пользователя с ид 0.\n",
    "    # Здесь 1 - это не ид пользователя, а просто порядковый номер.\n",
    "    top_similar_ratings = np.zeros((n_users, top, n_items))\n",
    "\n",
    "    for i in range(n_users):\n",
    "        # Для каждого пользователя необходимо получить наиболее похожих пользователей:\n",
    "        # Нулевой элемент не подходит, т.к. на этом месте находится похожесть пользователя самого на себя\n",
    "        top_sim_users = user_similarity[i].argsort()[1:top + 1]\n",
    "        # берём только оценки из \"обучающей\" выборки \n",
    "        top_similar_ratings[i] = train_data_matrix[top_sim_users]\n",
    "\n",
    "    pred = np.zeros((n_users, n_items))\n",
    "    for i in range(n_users):\n",
    "        pred[i] = top_similar_ratings[i].sum(axis=0) / top\n",
    "    return pred\n",
    "\n",
    "def naive_predict_item(top):\n",
    "    top_similar_ratings = np.zeros((n_items, top, n_users))\n",
    "\n",
    "    for i in range(n_items):\n",
    "        top_sim_items = item_similarity[i].argsort()[1:top + 1]\n",
    "        top_similar_ratings[i] = train_data_matrix.T[top_sim_items]\n",
    "        \n",
    "    pred = np.zeros((n_items, n_users))\n",
    "    for i in range(n_items):\n",
    "        pred[i] = top_similar_ratings[i].sum(axis=0) / top\n",
    "    \n",
    "    return pred.T"
   ]
  },
  {
   "cell_type": "code",
   "execution_count": 8,
   "id": "0f87db53",
   "metadata": {},
   "outputs": [],
   "source": [
    "# Менее наивная реализация требует участия матрицы “похожести” и оценок “похожих” пользователей. \n",
    "\n",
    "def k_fract_predict(top):\n",
    "    top_similar = np.zeros((n_users, top))\n",
    "    \n",
    "    for i in range(n_users):\n",
    "        user_sim = user_similarity[i]\n",
    "        top_sim_users = user_sim.argsort()[1:top+1]#[-top:]\n",
    "\n",
    "        for j in range(top):\n",
    "            top_similar[i, j] = top_sim_users[j]\n",
    "            \n",
    "    abs_sim = np.abs(user_similarity)\n",
    "    pred = np.zeros((n_users, n_items))\n",
    "    \n",
    "    for i in range(n_users):\n",
    "        indexes = top_similar[i].astype(int)\n",
    "        numerator = user_similarity[i][indexes]\n",
    "        product = numerator.dot(train_data_matrix[indexes])\n",
    "        denominator = abs_sim[i][top_similar[i].astype(int)].sum()\n",
    "        if denominator != 0:\n",
    "            pred[i] = product / denominator\n",
    "        else:\n",
    "            pred[i] = 0\n",
    "        \n",
    "    return pred\n",
    "\n",
    "def k_fract_predict_item(top):\n",
    "    flag = True\n",
    "    top_similar = np.zeros((n_items, top))\n",
    "    for i in range(n_items):\n",
    "        items_sim = item_similarity[i]\n",
    "        top_sim_items = items_sim.argsort()[1:top + 1]\n",
    "        for j in range(top):\n",
    "            top_similar[i, j] = top_sim_items.T[j]\n",
    "    abs_sim = np.abs(item_similarity)\n",
    "    pred = np.zeros((n_items, n_users))\n",
    "    for i in range(n_items):\n",
    "        indexes = top_similar[i].astype(int)\n",
    "        numerator = item_similarity[i][indexes]\n",
    "        product = numerator.dot(train_data_matrix.T[indexes])\n",
    "        denominator = abs_sim[i][indexes].sum()\n",
    "        denominator = denominator if denominator != 0 else 1\n",
    "        if denominator != 0:\n",
    "            pred[i] = product / denominator\n",
    "        else:\n",
    "            pred[i] = 0\n",
    "    return pred.T"
   ]
  },
  {
   "cell_type": "code",
   "execution_count": 9,
   "id": "630f0253",
   "metadata": {},
   "outputs": [],
   "source": [
    "# Рекомендации на основе средних оценок пользователей и матрицы “похожести”\n",
    "# Третья реализация зависит от оценок, которые пользователь ставил ранее \n",
    "# (точнее, от средней оценки по всем оценённым пользователем категориям), \n",
    "# средних оценок “похожих” пользователей и коэффициентов “похожести”.\n",
    "# Покупка является \"оценкой\".\n",
    "\n",
    "def k_fract_mean_predict(top):\n",
    "    top_similar = np.zeros((n_users, top))\n",
    "    \n",
    "    for i in range(n_users):\n",
    "        user_sim = user_similarity[i]\n",
    "        top_sim_users = user_sim.argsort()[1:top + 1]\n",
    "\n",
    "        for j in range(top):\n",
    "            top_similar[i, j] = top_sim_users[j]\n",
    "            \n",
    "    abs_sim = np.abs(user_similarity)\n",
    "    pred = np.zeros((n_users, n_items))\n",
    "    \n",
    "    for i in range(n_users):\n",
    "        indexes = top_similar[i].astype(int)\n",
    "        numerator = user_similarity[i][indexes]\n",
    "        \n",
    "        tmp = np.array([x for x in train_data_matrix[i] if x > 0])\n",
    "        if len(tmp) > 0:\n",
    "            mean_rating = tmp.mean()\n",
    "        else:\n",
    "            mean_rating = 0\n",
    "        del tmp\n",
    "        diff_ratings = train_data_matrix[indexes] - train_data_matrix[indexes].mean()\n",
    "        numerator = numerator.dot(diff_ratings)\n",
    "        denominator = abs_sim[i][top_similar[i].astype(int)].sum()\n",
    "        \n",
    "        if denominator != 0:\n",
    "            pred[i] = mean_rating + numerator / denominator\n",
    "        \n",
    "    return pred\n",
    "\n",
    "def k_fract_mean_predict_item(top):\n",
    "    top_similar = np.zeros((n_items, top))\n",
    "    \n",
    "    for i in range(n_items):\n",
    "        item_sim = item_similarity[i]\n",
    "        top_sim_items = item_sim.argsort()[1:top + 1]\n",
    "        \n",
    "        for j in range(top):\n",
    "            top_similar[i, j] = top_sim_items[j]\n",
    "    \n",
    "    abs_sim = np.abs(item_similarity)\n",
    "    pred = np.zeros((n_items, n_users))\n",
    "    \n",
    "    for i in range(n_items):\n",
    "        indexes = top_similar[i].astype(int)\n",
    "        numerator = item_similarity[i][indexes]\n",
    "        \n",
    "        diff_ratings = train_data_matrix.T[indexes] - train_data_matrix.T[indexes].mean()\n",
    "        numerator = numerator.dot(diff_ratings)\n",
    "        denominator = abs_sim[i][top_similar[i].astype(int)].sum()\n",
    "        denominator = denominator if denominator != 0 else 1\n",
    "        \n",
    "\n",
    "        tmp = np.array([x for x in train_data_matrix.T[i] if x > 0])\n",
    "        if len(tmp) > 0:\n",
    "            mean_rating = tmp.mean()\n",
    "        mean_rating = 0 if np.isnan(mean_rating) else mean_rating\n",
    "        if denominator != 0:\n",
    "            pred[i] = mean_rating + numerator / denominator\n",
    "                \n",
    "    return pred.T"
   ]
  },
  {
   "cell_type": "code",
   "execution_count": 10,
   "id": "cdb84366",
   "metadata": {},
   "outputs": [],
   "source": [
    "K_TOP = 7"
   ]
  },
  {
   "cell_type": "code",
   "execution_count": 11,
   "id": "eca1c99d",
   "metadata": {},
   "outputs": [],
   "source": [
    "TOP_USERS=10 # Сколько top-пользователей выбирать среди тех, кто оценил данную категорию\n",
    "TOP_ITEMS=5  # Сколько рекомендаций возвращать\n",
    "\n",
    "def items_to_recommend(user):\n",
    "    user_id = factor_u[user][1] # Идентификатор пользователя в dataset\n",
    "    \n",
    "    # Составим список купленных категорий:\n",
    "    shop_list = set(df[df['userID'] == user_id]['ItemId'].values) # В виде номеров категорий\n",
    "    ret = k_fract_mean_predict(K_TOP * 2)\n",
    "    \n",
    "    top_users = [] # Чьи рекомендации мы будем использовать \n",
    "\n",
    "    # Кто высоко оценивал категории целевого пользователя?\n",
    "    for item in shop_list:\n",
    "        rates = ret[:,item]\n",
    "        data = np.argpartition(rates,-TOP_USERS)[-TOP_USERS:]\n",
    "        top_users.extend(data)\n",
    "        \n",
    "    # Исключаем целевого пользователя из списка рекомендующих (если он там есть)\n",
    "    if user in top_users:\n",
    "        top_users.remove(user)\n",
    "\n",
    "    # По всем пользователям выбираем top категории\n",
    "    top_users = set(top_users)\n",
    "    rates = [0] * n_items\n",
    "    for x in top_users:\n",
    "        rates += ret[x]\n",
    "    data = np.argpartition(rates,-K_TOP)[-K_TOP:]\n",
    "    data = list(data)\n",
    "\n",
    "    # Убираем из рекомендаций то, что пользователь уже купил\n",
    "    for x in shop_list:\n",
    "        if x in data:\n",
    "            data.remove(x)\n",
    "\n",
    "    # Список рекомендованных категорий в виде массива названий\n",
    "    return [factor_i[x][1] for x in data][:TOP_ITEMS]"
   ]
  },
  {
   "cell_type": "code",
   "execution_count": 12,
   "id": "c036ff20",
   "metadata": {},
   "outputs": [],
   "source": [
    "# Эти данные не будут изменяться. Они нужны многократно в этом модуле\n",
    "\n",
    "dataset = pd.read_pickle(ds_flt_file) # Полные данные после фильтрации\n",
    "ds = pd.read_pickle(showcase_seg_file) # Сегментированная витрина\n",
    "ds.reset_index('user_id', inplace=True)"
   ]
  },
  {
   "cell_type": "code",
   "execution_count": 13,
   "id": "e6d6f888",
   "metadata": {
    "scrolled": false
   },
   "outputs": [
    {
     "name": "stdout",
     "output_type": "stream",
     "text": [
      "\n",
      "Segment 0\n"
     ]
    },
    {
     "data": {
      "text/html": [
       "<table border=\"1\" class=\"dataframe\">\n",
       "  <thead>\n",
       "    <tr style=\"text-align: right;\">\n",
       "      <th></th>\n",
       "      <th>Method1</th>\n",
       "      <th>Method2</th>\n",
       "      <th>Method3</th>\n",
       "    </tr>\n",
       "    <tr>\n",
       "      <th></th>\n",
       "      <th></th>\n",
       "      <th></th>\n",
       "      <th></th>\n",
       "    </tr>\n",
       "  </thead>\n",
       "  <tbody>\n",
       "    <tr>\n",
       "      <th>User-Based</th>\n",
       "      <td>0.52</td>\n",
       "      <td>0.88</td>\n",
       "      <td>0.88</td>\n",
       "    </tr>\n",
       "    <tr>\n",
       "      <th>Item-Based</th>\n",
       "      <td>0.94</td>\n",
       "      <td>0.95</td>\n",
       "      <td>0.08</td>\n",
       "    </tr>\n",
       "  </tbody>\n",
       "</table>"
      ],
      "text/plain": [
       "<IPython.core.display.HTML object>"
      ]
     },
     "metadata": {},
     "output_type": "display_data"
    },
    {
     "name": "stdout",
     "output_type": "stream",
     "text": [
      "\n",
      "Segment 1\n"
     ]
    },
    {
     "data": {
      "text/html": [
       "<table border=\"1\" class=\"dataframe\">\n",
       "  <thead>\n",
       "    <tr style=\"text-align: right;\">\n",
       "      <th></th>\n",
       "      <th>Method1</th>\n",
       "      <th>Method2</th>\n",
       "      <th>Method3</th>\n",
       "    </tr>\n",
       "    <tr>\n",
       "      <th></th>\n",
       "      <th></th>\n",
       "      <th></th>\n",
       "      <th></th>\n",
       "    </tr>\n",
       "  </thead>\n",
       "  <tbody>\n",
       "    <tr>\n",
       "      <th>User-Based</th>\n",
       "      <td>0.52</td>\n",
       "      <td>0.92</td>\n",
       "      <td>0.92</td>\n",
       "    </tr>\n",
       "    <tr>\n",
       "      <th>Item-Based</th>\n",
       "      <td>0.95</td>\n",
       "      <td>0.95</td>\n",
       "      <td>0.07</td>\n",
       "    </tr>\n",
       "  </tbody>\n",
       "</table>"
      ],
      "text/plain": [
       "<IPython.core.display.HTML object>"
      ]
     },
     "metadata": {},
     "output_type": "display_data"
    },
    {
     "name": "stdout",
     "output_type": "stream",
     "text": [
      "\n",
      "Segment 2\n"
     ]
    },
    {
     "data": {
      "text/html": [
       "<table border=\"1\" class=\"dataframe\">\n",
       "  <thead>\n",
       "    <tr style=\"text-align: right;\">\n",
       "      <th></th>\n",
       "      <th>Method1</th>\n",
       "      <th>Method2</th>\n",
       "      <th>Method3</th>\n",
       "    </tr>\n",
       "    <tr>\n",
       "      <th></th>\n",
       "      <th></th>\n",
       "      <th></th>\n",
       "      <th></th>\n",
       "    </tr>\n",
       "  </thead>\n",
       "  <tbody>\n",
       "    <tr>\n",
       "      <th>User-Based</th>\n",
       "      <td>0.60</td>\n",
       "      <td>0.80</td>\n",
       "      <td>0.80</td>\n",
       "    </tr>\n",
       "    <tr>\n",
       "      <th>Item-Based</th>\n",
       "      <td>0.87</td>\n",
       "      <td>0.87</td>\n",
       "      <td>0.17</td>\n",
       "    </tr>\n",
       "  </tbody>\n",
       "</table>"
      ],
      "text/plain": [
       "<IPython.core.display.HTML object>"
      ]
     },
     "metadata": {},
     "output_type": "display_data"
    },
    {
     "name": "stdout",
     "output_type": "stream",
     "text": [
      "\n",
      "Segment 3\n"
     ]
    },
    {
     "data": {
      "text/html": [
       "<table border=\"1\" class=\"dataframe\">\n",
       "  <thead>\n",
       "    <tr style=\"text-align: right;\">\n",
       "      <th></th>\n",
       "      <th>Method1</th>\n",
       "      <th>Method2</th>\n",
       "      <th>Method3</th>\n",
       "    </tr>\n",
       "    <tr>\n",
       "      <th></th>\n",
       "      <th></th>\n",
       "      <th></th>\n",
       "      <th></th>\n",
       "    </tr>\n",
       "  </thead>\n",
       "  <tbody>\n",
       "    <tr>\n",
       "      <th>User-Based</th>\n",
       "      <td>0.28</td>\n",
       "      <td>0.96</td>\n",
       "      <td>0.96</td>\n",
       "    </tr>\n",
       "    <tr>\n",
       "      <th>Item-Based</th>\n",
       "      <td>0.97</td>\n",
       "      <td>0.97</td>\n",
       "      <td>0.11</td>\n",
       "    </tr>\n",
       "  </tbody>\n",
       "</table>"
      ],
      "text/plain": [
       "<IPython.core.display.HTML object>"
      ]
     },
     "metadata": {},
     "output_type": "display_data"
    },
    {
     "name": "stdout",
     "output_type": "stream",
     "text": [
      "\n",
      "Segment 4\n"
     ]
    },
    {
     "data": {
      "text/html": [
       "<table border=\"1\" class=\"dataframe\">\n",
       "  <thead>\n",
       "    <tr style=\"text-align: right;\">\n",
       "      <th></th>\n",
       "      <th>Method1</th>\n",
       "      <th>Method2</th>\n",
       "      <th>Method3</th>\n",
       "    </tr>\n",
       "    <tr>\n",
       "      <th></th>\n",
       "      <th></th>\n",
       "      <th></th>\n",
       "      <th></th>\n",
       "    </tr>\n",
       "  </thead>\n",
       "  <tbody>\n",
       "    <tr>\n",
       "      <th>User-Based</th>\n",
       "      <td>0.71</td>\n",
       "      <td>0.66</td>\n",
       "      <td>0.66</td>\n",
       "    </tr>\n",
       "    <tr>\n",
       "      <th>Item-Based</th>\n",
       "      <td>0.89</td>\n",
       "      <td>0.89</td>\n",
       "      <td>0.11</td>\n",
       "    </tr>\n",
       "  </tbody>\n",
       "</table>"
      ],
      "text/plain": [
       "<IPython.core.display.HTML object>"
      ]
     },
     "metadata": {},
     "output_type": "display_data"
    },
    {
     "name": "stdout",
     "output_type": "stream",
     "text": [
      "\n",
      "Segment 5\n"
     ]
    },
    {
     "data": {
      "text/html": [
       "<table border=\"1\" class=\"dataframe\">\n",
       "  <thead>\n",
       "    <tr style=\"text-align: right;\">\n",
       "      <th></th>\n",
       "      <th>Method1</th>\n",
       "      <th>Method2</th>\n",
       "      <th>Method3</th>\n",
       "    </tr>\n",
       "    <tr>\n",
       "      <th></th>\n",
       "      <th></th>\n",
       "      <th></th>\n",
       "      <th></th>\n",
       "    </tr>\n",
       "  </thead>\n",
       "  <tbody>\n",
       "    <tr>\n",
       "      <th>User-Based</th>\n",
       "      <td>0.65</td>\n",
       "      <td>0.62</td>\n",
       "      <td>0.62</td>\n",
       "    </tr>\n",
       "    <tr>\n",
       "      <th>Item-Based</th>\n",
       "      <td>0.84</td>\n",
       "      <td>0.85</td>\n",
       "      <td>0.16</td>\n",
       "    </tr>\n",
       "  </tbody>\n",
       "</table>"
      ],
      "text/plain": [
       "<IPython.core.display.HTML object>"
      ]
     },
     "metadata": {},
     "output_type": "display_data"
    },
    {
     "name": "stdout",
     "output_type": "stream",
     "text": [
      "\n",
      "Segment 6\n"
     ]
    },
    {
     "data": {
      "text/html": [
       "<table border=\"1\" class=\"dataframe\">\n",
       "  <thead>\n",
       "    <tr style=\"text-align: right;\">\n",
       "      <th></th>\n",
       "      <th>Method1</th>\n",
       "      <th>Method2</th>\n",
       "      <th>Method3</th>\n",
       "    </tr>\n",
       "    <tr>\n",
       "      <th></th>\n",
       "      <th></th>\n",
       "      <th></th>\n",
       "      <th></th>\n",
       "    </tr>\n",
       "  </thead>\n",
       "  <tbody>\n",
       "    <tr>\n",
       "      <th>User-Based</th>\n",
       "      <td>0.46</td>\n",
       "      <td>0.94</td>\n",
       "      <td>0.94</td>\n",
       "    </tr>\n",
       "    <tr>\n",
       "      <th>Item-Based</th>\n",
       "      <td>0.94</td>\n",
       "      <td>0.94</td>\n",
       "      <td>0.12</td>\n",
       "    </tr>\n",
       "  </tbody>\n",
       "</table>"
      ],
      "text/plain": [
       "<IPython.core.display.HTML object>"
      ]
     },
     "metadata": {},
     "output_type": "display_data"
    },
    {
     "name": "stdout",
     "output_type": "stream",
     "text": [
      "\n",
      "Segment 7\n"
     ]
    },
    {
     "data": {
      "text/html": [
       "<table border=\"1\" class=\"dataframe\">\n",
       "  <thead>\n",
       "    <tr style=\"text-align: right;\">\n",
       "      <th></th>\n",
       "      <th>Method1</th>\n",
       "      <th>Method2</th>\n",
       "      <th>Method3</th>\n",
       "    </tr>\n",
       "    <tr>\n",
       "      <th></th>\n",
       "      <th></th>\n",
       "      <th></th>\n",
       "      <th></th>\n",
       "    </tr>\n",
       "  </thead>\n",
       "  <tbody>\n",
       "    <tr>\n",
       "      <th>User-Based</th>\n",
       "      <td>0.62</td>\n",
       "      <td>0.78</td>\n",
       "      <td>0.78</td>\n",
       "    </tr>\n",
       "    <tr>\n",
       "      <th>Item-Based</th>\n",
       "      <td>0.90</td>\n",
       "      <td>0.91</td>\n",
       "      <td>0.10</td>\n",
       "    </tr>\n",
       "  </tbody>\n",
       "</table>"
      ],
      "text/plain": [
       "<IPython.core.display.HTML object>"
      ]
     },
     "metadata": {},
     "output_type": "display_data"
    },
    {
     "name": "stdout",
     "output_type": "stream",
     "text": [
      "\n",
      "Segment 8\n"
     ]
    },
    {
     "data": {
      "text/html": [
       "<table border=\"1\" class=\"dataframe\">\n",
       "  <thead>\n",
       "    <tr style=\"text-align: right;\">\n",
       "      <th></th>\n",
       "      <th>Method1</th>\n",
       "      <th>Method2</th>\n",
       "      <th>Method3</th>\n",
       "    </tr>\n",
       "    <tr>\n",
       "      <th></th>\n",
       "      <th></th>\n",
       "      <th></th>\n",
       "      <th></th>\n",
       "    </tr>\n",
       "  </thead>\n",
       "  <tbody>\n",
       "    <tr>\n",
       "      <th>User-Based</th>\n",
       "      <td>0.63</td>\n",
       "      <td>0.79</td>\n",
       "      <td>0.79</td>\n",
       "    </tr>\n",
       "    <tr>\n",
       "      <th>Item-Based</th>\n",
       "      <td>0.91</td>\n",
       "      <td>0.91</td>\n",
       "      <td>0.10</td>\n",
       "    </tr>\n",
       "  </tbody>\n",
       "</table>"
      ],
      "text/plain": [
       "<IPython.core.display.HTML object>"
      ]
     },
     "metadata": {},
     "output_type": "display_data"
    },
    {
     "name": "stdout",
     "output_type": "stream",
     "text": [
      "\n",
      "Segment 9\n"
     ]
    },
    {
     "data": {
      "text/html": [
       "<table border=\"1\" class=\"dataframe\">\n",
       "  <thead>\n",
       "    <tr style=\"text-align: right;\">\n",
       "      <th></th>\n",
       "      <th>Method1</th>\n",
       "      <th>Method2</th>\n",
       "      <th>Method3</th>\n",
       "    </tr>\n",
       "    <tr>\n",
       "      <th></th>\n",
       "      <th></th>\n",
       "      <th></th>\n",
       "      <th></th>\n",
       "    </tr>\n",
       "  </thead>\n",
       "  <tbody>\n",
       "    <tr>\n",
       "      <th>User-Based</th>\n",
       "      <td>0.59</td>\n",
       "      <td>0.83</td>\n",
       "      <td>0.83</td>\n",
       "    </tr>\n",
       "    <tr>\n",
       "      <th>Item-Based</th>\n",
       "      <td>0.91</td>\n",
       "      <td>0.91</td>\n",
       "      <td>0.11</td>\n",
       "    </tr>\n",
       "  </tbody>\n",
       "</table>"
      ],
      "text/plain": [
       "<IPython.core.display.HTML object>"
      ]
     },
     "metadata": {},
     "output_type": "display_data"
    },
    {
     "name": "stdout",
     "output_type": "stream",
     "text": [
      "\n",
      "Segment 10\n"
     ]
    },
    {
     "data": {
      "text/html": [
       "<table border=\"1\" class=\"dataframe\">\n",
       "  <thead>\n",
       "    <tr style=\"text-align: right;\">\n",
       "      <th></th>\n",
       "      <th>Method1</th>\n",
       "      <th>Method2</th>\n",
       "      <th>Method3</th>\n",
       "    </tr>\n",
       "    <tr>\n",
       "      <th></th>\n",
       "      <th></th>\n",
       "      <th></th>\n",
       "      <th></th>\n",
       "    </tr>\n",
       "  </thead>\n",
       "  <tbody>\n",
       "    <tr>\n",
       "      <th>User-Based</th>\n",
       "      <td>0.77</td>\n",
       "      <td>0.44</td>\n",
       "      <td>0.44</td>\n",
       "    </tr>\n",
       "    <tr>\n",
       "      <th>Item-Based</th>\n",
       "      <td>0.92</td>\n",
       "      <td>0.92</td>\n",
       "      <td>0.12</td>\n",
       "    </tr>\n",
       "  </tbody>\n",
       "</table>"
      ],
      "text/plain": [
       "<IPython.core.display.HTML object>"
      ]
     },
     "metadata": {},
     "output_type": "display_data"
    },
    {
     "name": "stdout",
     "output_type": "stream",
     "text": [
      "\n",
      "Segment 11\n"
     ]
    },
    {
     "data": {
      "text/html": [
       "<table border=\"1\" class=\"dataframe\">\n",
       "  <thead>\n",
       "    <tr style=\"text-align: right;\">\n",
       "      <th></th>\n",
       "      <th>Method1</th>\n",
       "      <th>Method2</th>\n",
       "      <th>Method3</th>\n",
       "    </tr>\n",
       "    <tr>\n",
       "      <th></th>\n",
       "      <th></th>\n",
       "      <th></th>\n",
       "      <th></th>\n",
       "    </tr>\n",
       "  </thead>\n",
       "  <tbody>\n",
       "    <tr>\n",
       "      <th>User-Based</th>\n",
       "      <td>0.65</td>\n",
       "      <td>0.71</td>\n",
       "      <td>0.71</td>\n",
       "    </tr>\n",
       "    <tr>\n",
       "      <th>Item-Based</th>\n",
       "      <td>0.89</td>\n",
       "      <td>0.90</td>\n",
       "      <td>0.11</td>\n",
       "    </tr>\n",
       "  </tbody>\n",
       "</table>"
      ],
      "text/plain": [
       "<IPython.core.display.HTML object>"
      ]
     },
     "metadata": {},
     "output_type": "display_data"
    },
    {
     "name": "stdout",
     "output_type": "stream",
     "text": [
      "\n",
      "Segment 12\n"
     ]
    },
    {
     "data": {
      "text/html": [
       "<table border=\"1\" class=\"dataframe\">\n",
       "  <thead>\n",
       "    <tr style=\"text-align: right;\">\n",
       "      <th></th>\n",
       "      <th>Method1</th>\n",
       "      <th>Method2</th>\n",
       "      <th>Method3</th>\n",
       "    </tr>\n",
       "    <tr>\n",
       "      <th></th>\n",
       "      <th></th>\n",
       "      <th></th>\n",
       "      <th></th>\n",
       "    </tr>\n",
       "  </thead>\n",
       "  <tbody>\n",
       "    <tr>\n",
       "      <th>User-Based</th>\n",
       "      <td>0.37</td>\n",
       "      <td>0.93</td>\n",
       "      <td>0.93</td>\n",
       "    </tr>\n",
       "    <tr>\n",
       "      <th>Item-Based</th>\n",
       "      <td>0.97</td>\n",
       "      <td>0.98</td>\n",
       "      <td>0.06</td>\n",
       "    </tr>\n",
       "  </tbody>\n",
       "</table>"
      ],
      "text/plain": [
       "<IPython.core.display.HTML object>"
      ]
     },
     "metadata": {},
     "output_type": "display_data"
    },
    {
     "name": "stdout",
     "output_type": "stream",
     "text": [
      "CPU times: total: 20.8 s\n",
      "Wall time: 9.52 s\n"
     ]
    },
    {
     "data": {
      "image/png": "[encoded data removed]",
      "text/plain": [
       "<Figure size 640x480 with 1 Axes>"
      ]
     },
     "metadata": {},
     "output_type": "display_data"
    }
   ],
   "source": [
    "%%time\n",
    "# Цикл оценки качества по сегментам\n",
    "\n",
    "gr = [] # Собираем данные для графика\n",
    "random.seed(42)\n",
    "for seg in set(ds['Segment']):\n",
    "    rank = pd.DataFrame()\n",
    "    rank[''] = ['User-Based', 'Item-Based']\n",
    "    print(f'\\nSegment {seg}')\n",
    "    df = ds[ds['Segment']==seg]\n",
    "    #df.reset_index('user_id', inplace=True)\n",
    "    df = dataset[(dataset['event_type'] == 'purchase') & (dataset['user_id'].isin(df['user_id']))][['user_id', 'category_code_level2', 'event_time']]\n",
    "    df['rating'] = 1\n",
    "    df.rename(columns = {'user_id': 'userID', 'category_code_level2': 'category', 'event_time': 'timestamp'}, inplace=True)\n",
    "    df['UserId'] = pd.factorize(df['userID'])[0]   # UserId: 1..n_users\n",
    "    df['ItemId'] = pd.factorize(df['category'])[0] # ItemId: 1..n_items\n",
    "\n",
    "    factor_u = df[['UserId', 'userID']].drop_duplicates().values.tolist()   # [[0, 518638658], [1, 547064617],\n",
    "    factor_i = df[['ItemId', 'category']].drop_duplicates().values.tolist() # [[0, 'diapers'], [1, 'toster'], \n",
    "\n",
    "    ratings_df = df.sort_values(by=['userID','timestamp'])[['UserId', 'ItemId', 'rating', 'timestamp']]\n",
    "\n",
    "    n_users = ratings_df['UserId'].nunique()\n",
    "    n_items = ratings_df['ItemId'].nunique()\n",
    "    train_data, test_data = train_test_split(ratings_df, test_size=0.2)\n",
    "    \n",
    "    # Для определения качества предсказанных оценок воспользуемся мерой RMSE\n",
    "    # Сформируем матрицы размера (n_users, n_items) для обучающего и тестового наборов \n",
    "    # таким образом, чтобы элемент в ячейке [i, j] отражал оценку i-го пользователя j-й категории:\n",
    "    train_data_matrix = np.zeros((n_users, n_items))\n",
    "    for line in train_data.itertuples():\n",
    "        train_data_matrix[line[1] - 1, line[2] - 1] = line[3]\n",
    "    \n",
    "    test_data_matrix = np.zeros((n_users, n_items))\n",
    "    for line in test_data.itertuples():\n",
    "        test_data_matrix[line[1] - 1, line[2] - 1] = line[3]\n",
    "        \n",
    "    # считаем косинусное расстояние для пользователей и категорий \n",
    "    # (построчно и поколоночно соотвественно).\n",
    "    user_similarity = pairwise_distances(train_data_matrix, metric='cosine')\n",
    "    item_similarity = pairwise_distances(train_data_matrix.T, metric='cosine')\n",
    "    \n",
    "    # То есть user_similarity[i][j] — косинусное расстояние между i-ой строкой и j-ой строкой \n",
    "    # (можно проверить через scipy.spatial.distance.cosine(x,y)),\n",
    "    # а item_similarity[i][j] — косинусное расстояние между i-ой и j-ой колонками.\n",
    "    naive_pred = naive_predict(K_TOP)\n",
    "    naive_pred_item = naive_predict_item(K_TOP)\n",
    "    rank['Method1'] = [rmse(naive_pred, test_data_matrix), rmse(naive_pred_item, test_data_matrix)]\n",
    "\n",
    "    k_predict = k_fract_mean_predict(K_TOP)\n",
    "    k_predict_item = k_fract_predict_item(K_TOP)\n",
    "    rank['Method2'] = [rmse(k_predict, test_data_matrix), rmse(k_predict_item, test_data_matrix)]\n",
    "    \n",
    "    k_predict = k_fract_mean_predict(K_TOP)\n",
    "    k_predict_item = k_fract_mean_predict_item(K_TOP)\n",
    "    rank['Method3'] = [rmse(k_predict, test_data_matrix), rmse(k_predict_item, test_data_matrix)]\n",
    "\n",
    "    rank.set_index('', inplace=True)\n",
    "    prdf(rank)\n",
    "\n",
    "    gr.append([x for y in rank.values for x in y])\n",
    "        \n",
    "grdf = pd.DataFrame(gr, columns=['M1-user', 'M2-user', 'M3-user', 'M1-item', 'M2-item', 'M3-item'])\n",
    "grdf.plot(xlabel='Segment', ylabel='Value', grid=True);"
   ]
  },
  {
   "cell_type": "code",
   "execution_count": 14,
   "id": "e847a18b",
   "metadata": {
    "scrolled": false
   },
   "outputs": [
    {
     "name": "stdout",
     "output_type": "stream",
     "text": [
      "\n",
      "Сегмент: 0\n",
      "Пользователь: 513190617\n",
      "Рекомендовано: ['subwoofer', 'faucet', 'carriage', 'juicer', 'desktop']\n",
      "Куплено: {'water_heater', 'microwave', 'tv'}\n",
      "\n",
      "Пользователь: 518869739\n",
      "Рекомендовано: ['monitor', 'painting', 'juicer', 'subwoofer', 'desktop']\n",
      "Куплено: {'faucet', 'water_heater'}\n",
      "\n",
      "********************************************************************************\n",
      "\n",
      "Сегмент: 1\n",
      "Пользователь: 548843697\n",
      "Рекомендовано: ['jeans', 'blender', 'tv', 'compressor', 'trainer']\n",
      "Куплено: {'desktop'}\n",
      "\n",
      "Пользователь: 539893272\n",
      "Рекомендовано: ['compressor', 'jeans', 'tv', 'iron', 'blender']\n",
      "Куплено: {'kettle', 'vacuum'}\n",
      "\n",
      "********************************************************************************\n",
      "\n",
      "Сегмент: 2\n",
      "Пользователь: 531637511\n",
      "Рекомендовано: ['desktop', 'power_supply', 'memory', 'mouse', 'tv']\n",
      "Куплено: {'headphone', 'washer'}\n",
      "\n",
      "Пользователь: 536167624\n",
      "Рекомендовано: ['motherboard', 'cooler', 'keyboard', 'memory', 'desktop']\n",
      "Куплено: {'monitor', 'videocards'}\n",
      "\n",
      "********************************************************************************\n",
      "\n",
      "Сегмент: 3\n",
      "Пользователь: 540595153\n",
      "Рекомендовано: ['tv', 'bag', 'clocks', 'notebook', 'vacuum']\n",
      "Куплено: {'headphone'}\n",
      "\n",
      "Пользователь: 569217028\n",
      "Рекомендовано: ['microwave', 'bag', 'headphone', 'mouse', 'notebook']\n",
      "Куплено: {'clocks'}\n",
      "\n",
      "********************************************************************************\n",
      "\n",
      "Сегмент: 4\n",
      "Пользователь: 553075348\n",
      "Рекомендовано: ['juicer', 'clocks', 'headphone', 'massager', 'desktop']\n",
      "Куплено: {'oven', 'mixer'}\n",
      "\n",
      "Пользователь: 514450889\n",
      "Рекомендовано: ['ironing_board', 'blender', 'generator', 'vacuum', 'hair_cutter']\n",
      "Куплено: {'hood', 'hob'}\n",
      "\n",
      "********************************************************************************\n",
      "\n",
      "Сегмент: 5\n",
      "Пользователь: 549474266\n",
      "Рекомендовано: ['water_heater', 'refrigerators', 'hob', 'air_conditioner', 'vacuum']\n",
      "Куплено: {'dishwasher'}\n",
      "\n",
      "Пользователь: 545937392\n",
      "Рекомендовано: ['oven', 'microwave', 'hob', 'tablet', 'air_conditioner']\n",
      "Куплено: {'clocks', 'headphone', 'toys'}\n",
      "\n",
      "********************************************************************************\n",
      "\n",
      "Сегмент: 6\n",
      "Пользователь: 551196653\n",
      "Рекомендовано: ['bed', 'oven', 'refrigerators', 'diapers', 'sewing_machine']\n",
      "Куплено: {'washer'}\n",
      "\n",
      "Пользователь: 524496318\n",
      "Рекомендовано: ['iron', 'refrigerators', 'sewing_machine', 'microwave', 'grill']\n",
      "Куплено: {'tv', 'washer'}\n",
      "\n",
      "********************************************************************************\n",
      "\n",
      "Сегмент: 7\n",
      "Пользователь: 555215493\n",
      "Рекомендовано: ['parktronic', 'toster', 'headphone', 'tablet', 'light']\n",
      "Куплено: {'alarm', 'notebook', 'player'}\n",
      "\n",
      "Пользователь: 519507518\n",
      "Рекомендовано: ['refrigerators', 'keds', 'light', 'welding', 'piano']\n",
      "Куплено: {'desktop', 'drill'}\n",
      "\n",
      "********************************************************************************\n",
      "\n",
      "Сегмент: 8\n",
      "Пользователь: 525484165\n",
      "Рекомендовано: ['water_heater', 'cooler', 'headphone', 'shoes']\n",
      "Куплено: {'saw', 'refrigerators', 'tv'}\n",
      "\n",
      "Пользователь: 519467712\n",
      "Рекомендовано: ['kettle', 'shoes', 'mixer', 'saw', 'headphone']\n",
      "Куплено: {'printer', 'notebook'}\n",
      "\n",
      "********************************************************************************\n",
      "\n",
      "Сегмент: 9\n",
      "Пользователь: 529266456\n",
      "Рекомендовано: ['hair_cutter', 'telephone', 'vacuum', 'headphone', 'printer']\n",
      "Куплено: {'blender', 'microwave'}\n",
      "\n",
      "Пользователь: 513443555\n",
      "Рекомендовано: ['microwave', 'mixer', 'vacuum', 'clocks', 'washer']\n",
      "Куплено: {'headphone', 'meat_grinder'}\n",
      "\n",
      "********************************************************************************\n",
      "\n",
      "Сегмент: 10\n",
      "Пользователь: 568676389\n",
      "Рекомендовано: ['shoes', 'dishwasher', 'vacuum', 'toster', 'costume']\n",
      "Куплено: {'air_heater', 'refrigerators', 'sewing_machine'}\n",
      "\n",
      "Пользователь: 513312064\n",
      "Рекомендовано: ['dishwasher', 'grill', 'vacuum', 'sewing_machine']\n",
      "Куплено: {'shoes', 'microwave', 'kettle', 'washer', 'keds'}\n",
      "\n",
      "********************************************************************************\n",
      "\n",
      "Сегмент: 11\n",
      "Пользователь: 565477391\n",
      "Рекомендовано: ['acoustic', 'keds', 'water_heater', 'blanket', 'wallet']\n",
      "Куплено: {'shoes', 'clocks'}\n",
      "\n",
      "Пользователь: 527899152\n",
      "Рекомендовано: ['water_heater', 'blanket', 'photo', 'acoustic', 'toilet']\n",
      "Куплено: {'desktop', 'shirt', 'headphone', 'keds'}\n",
      "\n",
      "********************************************************************************\n",
      "\n",
      "Сегмент: 12\n",
      "Пользователь: 560879954\n",
      "Рекомендовано: ['headphone', 'ebooks', 'clocks', 'generator', 'saw']\n",
      "Куплено: {'toys'}\n",
      "\n",
      "Пользователь: 536555817\n",
      "Рекомендовано: ['microwave', 'swing', 'massager', 'generator', 'bicycle']\n",
      "Куплено: {'carriage'}\n",
      "\n",
      "********************************************************************************\n"
     ]
    }
   ],
   "source": [
    "# Цикл выдачи рекомендаций по сегментам\n",
    "random.seed(42)\n",
    "for seg in set(ds['Segment']):\n",
    "    df = ds[ds['Segment']==seg]\n",
    "    df = dataset[(dataset['event_type'] == 'purchase') & (dataset['user_id'].isin(df['user_id']))][['user_id', 'category_code_level2', 'event_time']]\n",
    "    df['rating'] = 1\n",
    "    df.rename(columns = {'user_id': 'userID', 'category_code_level2': 'category', 'event_time': 'timestamp'}, inplace=True)\n",
    "    df['UserId'] = pd.factorize(df['userID'])[0]   # UserId: 1..n_users\n",
    "    df['ItemId'] = pd.factorize(df['category'])[0] # ItemId: 1..n_items\n",
    "    ratings_df = df.sort_values(by=['userID','timestamp'])[['UserId', 'ItemId', 'rating', 'timestamp']]\n",
    "    n_users = ratings_df['UserId'].nunique()\n",
    "    n_items = ratings_df['ItemId'].nunique()\n",
    "    train_data, test_data = train_test_split(ratings_df, test_size = 0.2)\n",
    "    factor_u = df[['UserId', 'userID']].drop_duplicates().values.tolist()   # [[0, 518638658], [1, 547064617],\n",
    "    factor_i = df[['ItemId', 'category']].drop_duplicates().values.tolist() # [[0, 'diapers'], [1, 'toster'], \n",
    "    \n",
    "    # Для определения качества предсказанных оценок воспользуемся мерой RMSE\n",
    "    # Сформируем матрицы размера (n_users, n_items) для обучающего и тестового наборов \n",
    "    # таким образом, чтобы элемент в ячейке [i, j] отражал оценку i-го пользователя j-й категории:\n",
    "    train_data_matrix = np.zeros((n_users, n_items))\n",
    "    for line in train_data.itertuples():\n",
    "        train_data_matrix[line[1] - 1, line[2] - 1] = line[3]\n",
    "    \n",
    "    test_data_matrix = np.zeros((n_users, n_items))\n",
    "    for line in test_data.itertuples():\n",
    "        test_data_matrix[line[1] - 1, line[2] - 1] = line[3]\n",
    "        \n",
    "    # считаем косинусное расстояние для пользователей и категорий \n",
    "    # (построчно и поколоночно соотвественно).\n",
    "    user_similarity = pairwise_distances(train_data_matrix, metric='cosine')\n",
    "    item_similarity = pairwise_distances(train_data_matrix.T, metric='cosine')\n",
    "\n",
    "    print(f'\\nСегмент: {seg}')\n",
    "    for id in random.sample(range(0, n_users), 2):\n",
    "        print(f'Пользователь: {factor_u[id][1]}')\n",
    "        print(f'Рекомендовано: {items_to_recommend(id)}')\n",
    "        print(f'Куплено: {set(dataset[(dataset[\"user_id\"]==factor_u[id][1]) & (dataset[\"event_type\"]==\"purchase\")][\"category_code_level2\"])}\\n')\n",
    "    print('*' * 80)\n"
   ]
  },
  {
   "cell_type": "code",
   "execution_count": 15,
   "id": "bdcea670",
   "metadata": {},
   "outputs": [],
   "source": [
    "grdf.index.name = 'Segment'"
   ]
  },
  {
   "cell_type": "code",
   "execution_count": 16,
   "id": "03f5a3d0",
   "metadata": {},
   "outputs": [
    {
     "name": "stdout",
     "output_type": "stream",
     "text": [
      "Метрики ранжирования (RMSE) для разных способов\n"
     ]
    },
    {
     "data": {
      "text/html": [
       "<table border=\"1\" class=\"dataframe\">\n",
       "  <thead>\n",
       "    <tr style=\"text-align: right;\">\n",
       "      <th>Segment</th>\n",
       "      <th>0</th>\n",
       "      <th>1</th>\n",
       "      <th>2</th>\n",
       "      <th>3</th>\n",
       "      <th>4</th>\n",
       "      <th>5</th>\n",
       "      <th>6</th>\n",
       "      <th>7</th>\n",
       "      <th>8</th>\n",
       "      <th>9</th>\n",
       "      <th>10</th>\n",
       "      <th>11</th>\n",
       "      <th>12</th>\n",
       "    </tr>\n",
       "  </thead>\n",
       "  <tbody>\n",
       "    <tr>\n",
       "      <th>M1-user</th>\n",
       "      <td>0.52</td>\n",
       "      <td>0.52</td>\n",
       "      <td>0.60</td>\n",
       "      <td>0.28</td>\n",
       "      <td>0.71</td>\n",
       "      <td>0.65</td>\n",
       "      <td>0.46</td>\n",
       "      <td>0.62</td>\n",
       "      <td>0.63</td>\n",
       "      <td>0.59</td>\n",
       "      <td>0.77</td>\n",
       "      <td>0.65</td>\n",
       "      <td>0.37</td>\n",
       "    </tr>\n",
       "    <tr>\n",
       "      <th>M2-user</th>\n",
       "      <td>0.88</td>\n",
       "      <td>0.92</td>\n",
       "      <td>0.80</td>\n",
       "      <td>0.96</td>\n",
       "      <td>0.66</td>\n",
       "      <td>0.62</td>\n",
       "      <td>0.94</td>\n",
       "      <td>0.78</td>\n",
       "      <td>0.79</td>\n",
       "      <td>0.83</td>\n",
       "      <td>0.44</td>\n",
       "      <td>0.71</td>\n",
       "      <td>0.93</td>\n",
       "    </tr>\n",
       "    <tr>\n",
       "      <th>M3-user</th>\n",
       "      <td>0.88</td>\n",
       "      <td>0.92</td>\n",
       "      <td>0.80</td>\n",
       "      <td>0.96</td>\n",
       "      <td>0.66</td>\n",
       "      <td>0.62</td>\n",
       "      <td>0.94</td>\n",
       "      <td>0.78</td>\n",
       "      <td>0.79</td>\n",
       "      <td>0.83</td>\n",
       "      <td>0.44</td>\n",
       "      <td>0.71</td>\n",
       "      <td>0.93</td>\n",
       "    </tr>\n",
       "    <tr>\n",
       "      <th>M1-item</th>\n",
       "      <td>0.94</td>\n",
       "      <td>0.95</td>\n",
       "      <td>0.87</td>\n",
       "      <td>0.97</td>\n",
       "      <td>0.89</td>\n",
       "      <td>0.84</td>\n",
       "      <td>0.94</td>\n",
       "      <td>0.90</td>\n",
       "      <td>0.91</td>\n",
       "      <td>0.91</td>\n",
       "      <td>0.92</td>\n",
       "      <td>0.89</td>\n",
       "      <td>0.97</td>\n",
       "    </tr>\n",
       "    <tr>\n",
       "      <th>M2-item</th>\n",
       "      <td>0.95</td>\n",
       "      <td>0.95</td>\n",
       "      <td>0.87</td>\n",
       "      <td>0.97</td>\n",
       "      <td>0.89</td>\n",
       "      <td>0.85</td>\n",
       "      <td>0.94</td>\n",
       "      <td>0.91</td>\n",
       "      <td>0.91</td>\n",
       "      <td>0.91</td>\n",
       "      <td>0.92</td>\n",
       "      <td>0.90</td>\n",
       "      <td>0.98</td>\n",
       "    </tr>\n",
       "    <tr>\n",
       "      <th>M3-item</th>\n",
       "      <td>0.08</td>\n",
       "      <td>0.07</td>\n",
       "      <td>0.17</td>\n",
       "      <td>0.11</td>\n",
       "      <td>0.11</td>\n",
       "      <td>0.16</td>\n",
       "      <td>0.12</td>\n",
       "      <td>0.10</td>\n",
       "      <td>0.10</td>\n",
       "      <td>0.11</td>\n",
       "      <td>0.12</td>\n",
       "      <td>0.11</td>\n",
       "      <td>0.06</td>\n",
       "    </tr>\n",
       "  </tbody>\n",
       "</table>"
      ],
      "text/plain": [
       "<IPython.core.display.HTML object>"
      ]
     },
     "metadata": {},
     "output_type": "display_data"
    },
    {
     "name": "stdout",
     "output_type": "stream",
     "text": [
      "M1 - Наивные рекомендации\n",
      "M2 - Рекомендации с учётом средних оценок похожих пользователей\n",
      "M3 - Рекомендации на основе средних оценок пользователей и матрицы “похожести”\n",
      "user - User-base коллаборативная фильтрация (основанная на похожести пользователей)\n",
      "item - Item-Based коллаборативная фильтрация (основанная на похожести категорий)\n"
     ]
    }
   ],
   "source": [
    "print('Метрики ранжирования (RMSE) для разных способов')\n",
    "prdf(grdf.T)\n",
    "print('M1 - Наивные рекомендации')\n",
    "print('M2 - Рекомендации с учётом средних оценок похожих пользователей')\n",
    "print('M3 - Рекомендации на основе средних оценок пользователей и матрицы “похожести”')\n",
    "print('user - User-base коллаборативная фильтрация (основанная на похожести пользователей)')\n",
    "print('item - Item-Based коллаборативная фильтрация (основанная на похожести категорий)')"
   ]
  },
  {
   "cell_type": "code",
   "execution_count": 17,
   "id": "4051777e",
   "metadata": {},
   "outputs": [
    {
     "name": "stdout",
     "output_type": "stream",
     "text": [
      "M1-user 0.5676975691806002\n",
      "M2-user 0.7896593191106707\n",
      "M3-user 0.7896593191106707\n",
      "M1-item 0.9148913377763687\n",
      "M2-item 0.9195791874328071\n",
      "M3-item 0.1102656731435699\n"
     ]
    }
   ],
   "source": [
    "for col in grdf.columns:\n",
    "    print(col,grdf[col].mean())\n"
   ]
  },
  {
   "cell_type": "code",
   "execution_count": 18,
   "id": "c9395b0a",
   "metadata": {},
   "outputs": [
    {
     "name": "stdout",
     "output_type": "stream",
     "text": [
      "0:24\n"
     ]
    }
   ],
   "source": [
    "seconds=int(time.time() - start_time)\n",
    "print(\"%d:%02d\" % (seconds//60, seconds-60*(seconds//60),))"
   ]
  },
  {
   "cell_type": "code",
   "execution_count": null,
   "id": "662936e8",
   "metadata": {},
   "outputs": [],
   "source": []
  }
 ],
 "metadata": {
  "kernelspec": {
   "display_name": "Python 3 (ipykernel)",
   "language": "python",
   "name": "python3"
  },
  "language_info": {
   "codemirror_mode": {
    "name": "ipython",
    "version": 3
   },
   "file_extension": ".py",
   "mimetype": "text/x-python",
   "name": "python",
   "nbconvert_exporter": "python",
   "pygments_lexer": "ipython3",
   "version": "3.9.16"
  }
 },
 "nbformat": 4,
 "nbformat_minor": 5
}
