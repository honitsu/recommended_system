{
 "cells": [
  {
   "cell_type": "code",
   "execution_count": 1,
   "metadata": {},
   "outputs": [],
   "source": [
    "# nb-svf-all-segs.ipynb"
   ]
  },
  {
   "cell_type": "markdown",
   "metadata": {},
   "source": [
    "# <font color=\"navy\">Рассмотрим модель SVD (Singular Value Decomposition)."
   ]
  },
  {
   "cell_type": "markdown",
   "metadata": {},
   "source": [
    "<font color=\"darkgreen\">Работает с python 3.11 и 3.9"
   ]
  },
  {
   "cell_type": "code",
   "execution_count": 2,
   "metadata": {},
   "outputs": [],
   "source": [
    "import sys"
   ]
  },
  {
   "cell_type": "code",
   "execution_count": 3,
   "metadata": {
    "_cell_guid": "b1076dfc-b9ad-4769-8c92-a6c4dae69d19",
    "_uuid": "8f2839f25d086af736a60e9eeb907d3b93b6e0e5"
   },
   "outputs": [],
   "source": [
    "import numpy as np\n",
    "import pandas as pd\n",
    "import time\n",
    "import warnings\n",
    "import random\n",
    "from collections import defaultdict\n",
    "from surprise import SVD, Reader, Dataset, accuracy #, KNNBasic, NMF, , , accuracy\n",
    "from surprise.model_selection import train_test_split as sp_train_test_split\n",
    "from tqdm.notebook import tqdm\n",
    "#warnings.simplefilter(\"ignore\")\n",
    "from IPython.display import Markdown, display"
   ]
  },
  {
   "cell_type": "code",
   "execution_count": 4,
   "metadata": {},
   "outputs": [
    {
     "name": "stdout",
     "output_type": "stream",
     "text": [
      "System version: 3.9.16 (main, Mar  8 2023, 10:39:24) [MSC v.1916 64 bit (AMD64)]\n",
      "Pandas version: 1.5.3\n",
      "Numpy version:  1.23.5\n"
     ]
    }
   ],
   "source": [
    "print(f'System version: {sys.version}')\n",
    "print(f'Pandas version: {pd.__version__}')\n",
    "print(f'Numpy version:  {np.__version__}')"
   ]
  },
  {
   "cell_type": "code",
   "execution_count": 5,
   "metadata": {},
   "outputs": [
    {
     "name": "stdout",
     "output_type": "stream",
     "text": [
      ".\\cache\\2019-Nov.csv\n",
      ".\\cache\\2019-Oct.csv\n"
     ]
    }
   ],
   "source": [
    "from settings import *\n",
    "DEBUG = True"
   ]
  },
  {
   "cell_type": "code",
   "execution_count": 6,
   "metadata": {},
   "outputs": [],
   "source": [
    "start_time = time.time()"
   ]
  },
  {
   "cell_type": "code",
   "execution_count": 7,
   "metadata": {},
   "outputs": [],
   "source": [
    "pd.options.display.float_format = \"{:,.2f}\".format\n",
    "warnings.simplefilter(\"ignore\")\n",
    "%matplotlib inline"
   ]
  },
  {
   "cell_type": "markdown",
   "metadata": {},
   "source": [
    "## Создание рекомендательных систем с использованием библиотеки Surprise"
   ]
  },
  {
   "cell_type": "code",
   "execution_count": 8,
   "metadata": {},
   "outputs": [],
   "source": [
    "def get_top_n(predictions, n=10):\n",
    "    \"\"\"Return the top-N recommendation for each user from a set of predictions.\n",
    "\n",
    "    Args:\n",
    "        predictions(list of Prediction objects): The list of predictions, as\n",
    "            returned by the test method of an algorithm.\n",
    "        n(int): The number of recommendation to output for each user. Default\n",
    "            is 10.\n",
    "\n",
    "    Returns:\n",
    "    A dict where keys are user (raw) ids and values are lists of tuples:\n",
    "        [(raw item id, rating estimation), ...] of size n.\n",
    "    \"\"\"\n",
    "\n",
    "    # First map the predictions to each user.\n",
    "    top_n = defaultdict(list)\n",
    "    for uid, iid, true_r, est, _ in predictions:\n",
    "        top_n[uid].append((iid, est))\n",
    "\n",
    "    # Then sort the predictions for each user and retrieve the k highest ones.\n",
    "    for uid, user_ratings in top_n.items():\n",
    "        user_ratings.sort(key=lambda x: x[1], reverse=True)\n",
    "        top_n[uid] = user_ratings[:n]\n",
    "\n",
    "    return top_n"
   ]
  },
  {
   "cell_type": "code",
   "execution_count": 9,
   "metadata": {},
   "outputs": [],
   "source": [
    "def toratings(ds):\n",
    "    \"\"\"\n",
    "    Преобразует таблицу к строкам: user_id, category_name, rating\n",
    "    \"\"\"\n",
    "    cols = np.sort(dataset[SPLIT_CATEGORY].unique()).tolist() # Получаем значения всех категорий\n",
    "    ds = ds[cols]\n",
    "    #ds = ds.loc[:, (ds != 0).any(axis=0)] # Удаляем столбцы с одними нулями\n",
    "    ds.reset_index(inplace=True) # Преобразуем индекс в столбец\n",
    "\n",
    "    ratings = pd.DataFrame()\n",
    "    #cols = list(ds.columns)\n",
    "    if 'user_id' in cols:\n",
    "        cols.remove('user_id')\n",
    "    for col in cols:\n",
    "        if col not in list(ds.columns):\n",
    "            cols.remove(col)\n",
    "    for col in cols:\n",
    "        dtmp = ds[ds[col]!=0][['user_id',col]].rename(columns={col: 'rating'})\n",
    "        dtmp.insert(1,'category',col)\n",
    "        ratings=pd.concat([ratings,dtmp], ignore_index = True)\n",
    "    return ratings"
   ]
  },
  {
   "cell_type": "code",
   "execution_count": 10,
   "metadata": {},
   "outputs": [],
   "source": [
    "dataset = pd.read_pickle(ds_flt_file) # Полные данные после фильтрации\n",
    "ds = pd.read_pickle(showcase_seg_file) # Сегментированная витрина"
   ]
  },
  {
   "cell_type": "code",
   "execution_count": 11,
   "metadata": {
    "scrolled": false
   },
   "outputs": [
    {
     "name": "stdout",
     "output_type": "stream",
     "text": [
      "Сегмент: 0\n",
      "\n",
      "Пользователь: 553932996\n",
      "Рекомендовано: ['tv', 'water_heater', 'cooler', 'microphone', 'wallet']\n",
      "Куплено: {'microwave', 'notebook'}\n",
      "\n",
      "Пользователь: 521565698\n",
      "Рекомендовано: ['notebook', 'cooler', 'dolls', 'shirt', 'juicer']\n",
      "Куплено: {'subwoofer', 'tv'}\n"
     ]
    },
    {
     "data": {
      "text/markdown": [
       "---"
      ],
      "text/plain": [
       "<IPython.core.display.Markdown object>"
      ]
     },
     "metadata": {},
     "output_type": "display_data"
    },
    {
     "name": "stdout",
     "output_type": "stream",
     "text": [
      "Сегмент: 1\n",
      "\n",
      "Пользователь: 512438522\n",
      "Рекомендовано: ['tv', 'winch', 'parktronic', 'fan', 'ebooks']\n",
      "Куплено: {'desktop', 'headphone'}\n",
      "\n",
      "Пользователь: 541350829\n",
      "Рекомендовано: ['winch', 'fan', 'tv', 'parktronic', 'massager']\n",
      "Куплено: {'shoes'}\n"
     ]
    },
    {
     "data": {
      "text/markdown": [
       "---"
      ],
      "text/plain": [
       "<IPython.core.display.Markdown object>"
      ]
     },
     "metadata": {},
     "output_type": "display_data"
    },
    {
     "name": "stdout",
     "output_type": "stream",
     "text": [
      "Сегмент: 2\n",
      "\n",
      "Пользователь: 557438880\n",
      "Рекомендовано: ['desktop', 'trainer', 'cartrige', 'mouse', 'keyboard']\n",
      "Куплено: {'power_supply', 'motherboard', 'monitor', 'cpu', 'videocards', 'memory', 'hdd'}\n",
      "\n",
      "Пользователь: 553804520\n",
      "Рекомендовано: ['monitor', 'desktop', 'cartrige', 'trainer', 'hdd']\n",
      "Куплено: {'videocards', 'headphone'}\n"
     ]
    },
    {
     "data": {
      "text/markdown": [
       "---"
      ],
      "text/plain": [
       "<IPython.core.display.Markdown object>"
      ]
     },
     "metadata": {},
     "output_type": "display_data"
    },
    {
     "name": "stdout",
     "output_type": "stream",
     "text": [
      "Сегмент: 3\n",
      "\n",
      "Пользователь: 517856318\n",
      "Рекомендовано: ['clocks', 'headphone', 'tablet', 'tv', 'microwave']\n",
      "Куплено: {'notebook'}\n",
      "\n",
      "Пользователь: 559705039\n",
      "Рекомендовано: ['notebook', 'headphone', 'clocks', 'tablet', 'skates']\n",
      "Куплено: {'tv'}\n"
     ]
    },
    {
     "data": {
      "text/markdown": [
       "---"
      ],
      "text/plain": [
       "<IPython.core.display.Markdown object>"
      ]
     },
     "metadata": {},
     "output_type": "display_data"
    },
    {
     "name": "stdout",
     "output_type": "stream",
     "text": [
      "Сегмент: 4\n",
      "\n",
      "Пользователь: 514644510\n",
      "Рекомендовано: ['hair_cutter', 'swing', 'desktop', 'umbrella', 'sofa']\n",
      "Куплено: {'hob'}\n",
      "\n",
      "Пользователь: 514898010\n",
      "Рекомендовано: ['hair_cutter', 'tonometer', 'sofa', 'desktop', 'clocks']\n",
      "Куплено: {'oven', 'hob'}\n"
     ]
    },
    {
     "data": {
      "text/markdown": [
       "---"
      ],
      "text/plain": [
       "<IPython.core.display.Markdown object>"
      ]
     },
     "metadata": {},
     "output_type": "display_data"
    },
    {
     "name": "stdout",
     "output_type": "stream",
     "text": [
      "Сегмент: 5\n",
      "\n",
      "Пользователь: 552745448\n",
      "Рекомендовано: ['refrigerators', 'air_conditioner', 'mixer', 'saw', 'tv']\n",
      "Куплено: {'refrigerators', 'dishwasher', 'washer', 'notebook', 'vacuum'}\n",
      "\n",
      "Пользователь: 530222036\n",
      "Рекомендовано: ['washer', 'pump', 'tablet', 'air_conditioner', 'refrigerators']\n",
      "Куплено: {'dishwasher'}\n"
     ]
    },
    {
     "data": {
      "text/markdown": [
       "---"
      ],
      "text/plain": [
       "<IPython.core.display.Markdown object>"
      ]
     },
     "metadata": {},
     "output_type": "display_data"
    },
    {
     "name": "stdout",
     "output_type": "stream",
     "text": [
      "Сегмент: 6\n",
      "\n",
      "Пользователь: 555692168\n",
      "Рекомендовано: ['sewing_machine', 'washer', 'chair', 'oven', 'grill']\n",
      "Куплено: {'refrigerators', 'tv'}\n",
      "\n",
      "Пользователь: 512610146\n",
      "Рекомендовано: ['chair', 'washer', 'tv', 'grill', 'vacuum']\n",
      "Куплено: {'refrigerators'}\n"
     ]
    },
    {
     "data": {
      "text/markdown": [
       "---"
      ],
      "text/plain": [
       "<IPython.core.display.Markdown object>"
      ]
     },
     "metadata": {},
     "output_type": "display_data"
    },
    {
     "name": "stdout",
     "output_type": "stream",
     "text": [
      "Сегмент: 7\n",
      "\n",
      "Пользователь: 557950111\n",
      "Рекомендовано: ['alarm', 'clocks', 'toilet', 'painting', 'notebook']\n",
      "Куплено: {'tablet', 'radar', 'tv'}\n",
      "\n",
      "Пользователь: 546230830\n",
      "Рекомендовано: ['tablet', 'alarm', 'painting', 'videoregister', 'toster']\n",
      "Куплено: {'clocks', 'subwoofer', 'headphone'}\n"
     ]
    },
    {
     "data": {
      "text/markdown": [
       "---"
      ],
      "text/plain": [
       "<IPython.core.display.Markdown object>"
      ]
     },
     "metadata": {},
     "output_type": "display_data"
    },
    {
     "name": "stdout",
     "output_type": "stream",
     "text": [
      "Сегмент: 8\n",
      "\n",
      "Пользователь: 562836104\n",
      "Рекомендовано: ['printer', 'washer', 'videoregister', 'scales', 'air_heater']\n",
      "Куплено: {'saw', 'refrigerators'}\n",
      "\n",
      "Пользователь: 544386745\n",
      "Рекомендовано: ['notebook', 'videoregister', 'printer', 'toster', 'cartrige']\n",
      "Куплено: {'washer', 'water_heater', 'vacuum'}\n"
     ]
    },
    {
     "data": {
      "text/markdown": [
       "---"
      ],
      "text/plain": [
       "<IPython.core.display.Markdown object>"
      ]
     },
     "metadata": {},
     "output_type": "display_data"
    },
    {
     "name": "stdout",
     "output_type": "stream",
     "text": [
      "Сегмент: 9\n",
      "\n",
      "Пользователь: 556671398\n",
      "Рекомендовано: ['tablet', 'telephone', 'tv', 'notebook', 'clocks']\n",
      "Куплено: {'player'}\n",
      "\n",
      "Пользователь: 558540696\n",
      "Рекомендовано: ['headphone', 'player', 'telephone', 'clocks', 'notebook']\n",
      "Куплено: {'meat_grinder', 'microwave', 'tv'}\n"
     ]
    },
    {
     "data": {
      "text/markdown": [
       "---"
      ],
      "text/plain": [
       "<IPython.core.display.Markdown object>"
      ]
     },
     "metadata": {},
     "output_type": "display_data"
    },
    {
     "name": "stdout",
     "output_type": "stream",
     "text": [
      "Сегмент: 10\n",
      "\n",
      "Пользователь: 556037782\n",
      "Рекомендовано: ['headphone', 'vacuum', 'tablet', 'toilet', 'tv']\n",
      "Куплено: {'kettle', 'grill', 'drill'}\n",
      "\n",
      "Пользователь: 559019242\n",
      "Рекомендовано: ['blender', 'iron', 'air_heater', 'headphone', 'drill']\n",
      "Куплено: {'shoes', 'sewing_machine'}\n"
     ]
    },
    {
     "data": {
      "text/markdown": [
       "---"
      ],
      "text/plain": [
       "<IPython.core.display.Markdown object>"
      ]
     },
     "metadata": {},
     "output_type": "display_data"
    },
    {
     "name": "stdout",
     "output_type": "stream",
     "text": [
      "Сегмент: 11\n",
      "\n",
      "Пользователь: 559394618\n",
      "Рекомендовано: ['compressor', 'tv', 'steam_cooker', 'camera', 'video']\n",
      "Куплено: {'acoustic', 'headphone'}\n",
      "\n",
      "Пользователь: 512980976\n",
      "Рекомендовано: ['steam_cooker', 'tv', 'video', 'moccasins', 'headphone']\n",
      "Куплено: {'clocks', 'notebook', 'desktop', 'photo'}\n"
     ]
    },
    {
     "data": {
      "text/markdown": [
       "---"
      ],
      "text/plain": [
       "<IPython.core.display.Markdown object>"
      ]
     },
     "metadata": {},
     "output_type": "display_data"
    },
    {
     "name": "stdout",
     "output_type": "stream",
     "text": [
      "Сегмент: 12\n",
      "\n",
      "Пользователь: 568069892\n",
      "Рекомендовано: ['clocks', 'headphone', 'microwave', 'carriage', 'toys']\n",
      "Куплено: {'saw'}\n",
      "\n",
      "Пользователь: 553013818\n",
      "Рекомендовано: ['headphone', 'clocks', 'carriage', 'microwave', 'printer']\n",
      "Куплено: {'bicycle'}\n"
     ]
    },
    {
     "data": {
      "text/markdown": [
       "---"
      ],
      "text/plain": [
       "<IPython.core.display.Markdown object>"
      ]
     },
     "metadata": {},
     "output_type": "display_data"
    },
    {
     "name": "stdout",
     "output_type": "stream",
     "text": [
      "CPU times: total: 15.2 s\n",
      "Wall time: 14.8 s\n"
     ]
    }
   ],
   "source": [
    "%%time\n",
    "# Главный цикл\n",
    "random.seed(42)\n",
    "prec = []\n",
    "for seg in set(ds['Segment']):\n",
    "    print(f'Сегмент: {seg}')\n",
    "    df = ds[ds['Segment']==seg]\n",
    "    df = toratings(df)\n",
    "        \n",
    "    reader = Reader(rating_scale=(1, df['rating'].max()))\n",
    "    data = Dataset.load_from_df(df, reader)\n",
    "\n",
    "    # Разработка рекомендательной системы с использованием Surprise\n",
    "    # Разделение данных на обучающий и тестовый наборы\n",
    "    trainset, testset = sp_train_test_split(data, test_size=0.2, random_state=42)\n",
    "    # Создание модели SVD\n",
    "    model = SVD(n_factors=100, n_epochs=500, lr_all=0.005, reg_all=0.02, random_state=42)\n",
    "    # Обучение модели на обучающем наборе\n",
    "    model.fit(trainset)\n",
    "    # Then predict ratings for all pairs (u, i) that are NOT in the training set.\n",
    "    testset = trainset.build_anti_testset()\n",
    "    predictions = model.test(testset)\n",
    "    top_n = get_top_n(predictions, n=5)\n",
    "    \n",
    "    # Получение прогнозов модели на тестовом наборе\n",
    "\n",
    "    # Расчет MAE и RMSE\n",
    "    mae = accuracy.mae(predictions, False)\n",
    "    rmse = accuracy.rmse(predictions, False)\n",
    "    prec.append([seg, mae, rmse])\n",
    "    \n",
    "    #print(f'MAE: {mae}')\n",
    "    #print(f'RMSE: {rmse}')\n",
    "\n",
    "    # Выдача рекомендаций на основе обученной модели\n",
    "    # После успешного обучения модели мы можем использовать ее для выдачи рекомендаций. \n",
    "    # Например, для пользователя с идентификатором user_id, мы можем получить топ N рекомендаций.\n",
    "    # Получение топ 5 рекомендаций для пользователя с идентификатором user_id\n",
    "    for id in random.sample(range(0, len(predictions)), 2):\n",
    "        user_id = predictions[id][0]\n",
    "        top_n = get_top_n(predictions, n=5)\n",
    "        # Вывод рекомендаций\n",
    "        for user, user_ratings in top_n.items():\n",
    "            if user == user_id:\n",
    "                print(f'\\nПользователь: {user_id}')\n",
    "                print(f'Рекомендовано: {[item_id for item_id, rating in user_ratings]}')\n",
    "                print(f'Куплено: {set(dataset[(dataset[\"user_id\"]==user_id) & (dataset[\"event_type\"]==\"purchase\")][\"category_code_level2\"])}')\n",
    "    display(Markdown('---'))\n",
    "prec = pd.DataFrame(prec,columns=['Segment', 'RME', 'RMSE'])\n",
    "prec.set_index('Segment', inplace=True)"
   ]
  },
  {
   "cell_type": "code",
   "execution_count": 12,
   "metadata": {},
   "outputs": [
    {
     "data": {
      "text/html": [
       "<table border=\"1\" class=\"dataframe\">\n",
       "  <thead>\n",
       "    <tr style=\"text-align: right;\">\n",
       "      <th>Segment</th>\n",
       "      <th>0</th>\n",
       "      <th>1</th>\n",
       "      <th>2</th>\n",
       "      <th>3</th>\n",
       "      <th>4</th>\n",
       "      <th>5</th>\n",
       "      <th>6</th>\n",
       "      <th>7</th>\n",
       "      <th>8</th>\n",
       "      <th>9</th>\n",
       "      <th>10</th>\n",
       "      <th>11</th>\n",
       "      <th>12</th>\n",
       "    </tr>\n",
       "  </thead>\n",
       "  <tbody>\n",
       "    <tr>\n",
       "      <th>RME</th>\n",
       "      <td>0.53</td>\n",
       "      <td>0.48</td>\n",
       "      <td>0.45</td>\n",
       "      <td>0.88</td>\n",
       "      <td>0.33</td>\n",
       "      <td>0.46</td>\n",
       "      <td>0.37</td>\n",
       "      <td>0.49</td>\n",
       "      <td>0.47</td>\n",
       "      <td>0.38</td>\n",
       "      <td>0.42</td>\n",
       "      <td>0.55</td>\n",
       "      <td>0.65</td>\n",
       "    </tr>\n",
       "    <tr>\n",
       "      <th>RMSE</th>\n",
       "      <td>0.66</td>\n",
       "      <td>0.62</td>\n",
       "      <td>0.58</td>\n",
       "      <td>1.11</td>\n",
       "      <td>0.44</td>\n",
       "      <td>0.58</td>\n",
       "      <td>0.48</td>\n",
       "      <td>0.62</td>\n",
       "      <td>0.58</td>\n",
       "      <td>0.49</td>\n",
       "      <td>0.53</td>\n",
       "      <td>0.67</td>\n",
       "      <td>0.79</td>\n",
       "    </tr>\n",
       "  </tbody>\n",
       "</table>"
      ],
      "text/plain": [
       "<IPython.core.display.HTML object>"
      ]
     },
     "metadata": {},
     "output_type": "display_data"
    },
    {
     "name": "stdout",
     "output_type": "stream",
     "text": [
      "Finish\n"
     ]
    }
   ],
   "source": [
    "from user_func import prdf\n",
    "prdf(prec.T)\n",
    "print('Finish')"
   ]
  },
  {
   "cell_type": "code",
   "execution_count": 13,
   "metadata": {},
   "outputs": [
    {
     "name": "stdout",
     "output_type": "stream",
     "text": [
      "0:16\n"
     ]
    }
   ],
   "source": [
    "seconds=int(time.time() - start_time)\n",
    "print(\"%d:%02d\" % (seconds//60, seconds-60*(seconds//60),))"
   ]
  },
  {
   "cell_type": "code",
   "execution_count": null,
   "metadata": {},
   "outputs": [],
   "source": []
  }
 ],
 "metadata": {
  "kaggle": {
   "accelerator": "none",
   "dataSources": [
    {
     "datasetId": 411512,
     "sourceId": 835452,
     "sourceType": "datasetVersion"
    }
   ],
   "dockerImageVersionId": 30635,
   "isGpuEnabled": false,
   "isInternetEnabled": true,
   "language": "python",
   "sourceType": "notebook"
  },
  "kernelspec": {
   "display_name": "Python 3 (ipykernel)",
   "language": "python",
   "name": "python3"
  },
  "language_info": {
   "codemirror_mode": {
    "name": "ipython",
    "version": 3
   },
   "file_extension": ".py",
   "mimetype": "text/x-python",
   "name": "python",
   "nbconvert_exporter": "python",
   "pygments_lexer": "ipython3",
   "version": "3.9.16"
  }
 },
 "nbformat": 4,
 "nbformat_minor": 4
}
