{
 "cells": [
  {
   "cell_type": "code",
   "execution_count": 1,
   "metadata": {},
   "outputs": [],
   "source": [
    "# nb-ncf-all-segs.ipynb"
   ]
  },
  {
   "cell_type": "markdown",
   "metadata": {},
   "source": [
    "# Разработка рекомендательной системы для электронной коммерции на основе гибридного подхода машинного обучения с учётом пользовательского поведения и контентных характеристик"
   ]
  },
  {
   "cell_type": "code",
   "execution_count": 2,
   "metadata": {
    "_cell_guid": "b1076dfc-b9ad-4769-8c92-a6c4dae69d19",
    "_uuid": "8f2839f25d086af736a60e9eeb907d3b93b6e0e5"
   },
   "outputs": [
    {
     "name": "stdout",
     "output_type": "stream",
     "text": [
      ".\\cache\\2019-Nov.csv\n",
      ".\\cache\\2019-Oct.csv\n",
      ".\\cache\\test.csv\n",
      ".\\cache\\test_full.csv\n",
      ".\\cache\\train.csv\n",
      "WARNING:tensorflow:From D:\\Anaconda\\envs\\py39\\lib\\site-packages\\recommenders\\models\\ncf\\ncf_singlenode.py:12: The name tf.disable_eager_execution is deprecated. Please use tf.compat.v1.disable_eager_execution instead.\n",
      "\n"
     ]
    }
   ],
   "source": [
    "import sys\n",
    "import numpy as np\n",
    "import pandas as pd\n",
    "import plotly.express as px\n",
    "import time\n",
    "import warnings\n",
    "import random\n",
    "warnings.simplefilter(\"ignore\")\n",
    "from tqdm.notebook import tqdm\n",
    "#from tqdm import tqdm\n",
    "warnings.simplefilter(\"ignore\")\n",
    "from settings import *\n",
    "from recommenders.datasets.python_splitters import python_chrono_split\n",
    "from recommenders.models.ncf.ncf_singlenode import NCF\n",
    "from recommenders.models.ncf.dataset import Dataset as NCFDataset\n",
    "from recommenders.utils.timer import Timer\n",
    "from recommenders.utils.plot import line_graph\n",
    "from recommenders.evaluation.python_evaluation import map_at_k, ndcg_at_k, precision_at_k, recall_at_k\n",
    "import pickle\n",
    "import tensorflow as tf\n",
    "import random\n",
    "tf.get_logger().setLevel('ERROR') # only show error messages"
   ]
  },
  {
   "cell_type": "code",
   "execution_count": 3,
   "metadata": {},
   "outputs": [],
   "source": [
    "start_time = time.time()"
   ]
  },
  {
   "cell_type": "code",
   "execution_count": 4,
   "metadata": {},
   "outputs": [
    {
     "name": "stdout",
     "output_type": "stream",
     "text": [
      "System version: 3.9.19 (main, Mar 21 2024, 17:21:27) [MSC v.1916 64 bit (AMD64)]\n",
      "Pandas version: 1.5.3\n"
     ]
    }
   ],
   "source": [
    "#import tensorflow.compat.v1 as tf\n",
    "print(f'System version: {sys.version}')\n",
    "print(f'Pandas version: {pd.__version__}')"
   ]
  },
  {
   "cell_type": "code",
   "execution_count": 5,
   "metadata": {},
   "outputs": [],
   "source": [
    "def toratings(ds):\n",
    "    \"\"\"\n",
    "    Преобразует таблицу к строкам: user_id, category_name, rating и надо добавить timestamp\n",
    "    \"\"\"\n",
    "    cols = np.sort(dataset[SPLIT_CATEGORY].unique()).tolist() # Получаем значения всех категорий\n",
    "    #ds = ds.loc[:, (ds != 0).any(axis=0)] # Удаляем столбцы с одними нулями\n",
    "    ds.reset_index(inplace=True) # Преобразуем индекс в столбец\n",
    "\n",
    "    ratings = pd.DataFrame()\n",
    "    for col in cols:\n",
    "        if col not in list(ds.columns):\n",
    "            cols.remove(col)\n",
    "    for col in cols:\n",
    "        dtmp = ds[ds[col]!=0][['user_id', col, 'last_purchase']].rename(columns={col: 'rating'})\n",
    "        dtmp.insert(1,'category',col)\n",
    "        ratings=pd.concat([ratings,dtmp], ignore_index = True)\n",
    "    df2 = pd.to_datetime(ratings['last_purchase'])\n",
    "    ratings['last_purchase'] = df2\n",
    "    ratings['itemID'] = pd.factorize(ratings['category'])[0]\n",
    "    print(ratings.head(1))\n",
    "    return ratings.rename(columns={'last_purchase': 'timestamp', 'user_id': 'userID'})"
   ]
  },
  {
   "cell_type": "code",
   "execution_count": 6,
   "metadata": {},
   "outputs": [],
   "source": [
    "# Model parameters\n",
    "# top k items to recommend\n",
    "TOP_K = 5\n",
    "\n",
    "# Model parameters\n",
    "EPOCHS = 100\n",
    "BATCH_SIZE = 256\n",
    "\n",
    "SEED = 42"
   ]
  },
  {
   "cell_type": "code",
   "execution_count": 7,
   "metadata": {},
   "outputs": [],
   "source": [
    "# Evaluate how well NCF performs\n",
    "# The ranking metrics are used for evaluation.\n",
    "def eval_ncf():\n",
    "    #TOP_K = 10\n",
    "    #df_merge[\"top_k\"] = k\n",
    "    #df_merge[\"denominator\"] = df_merge[[\"top_k\", \"actual\"]].min(axis=1)\n",
    "    #eval_map = (df_merge[\"rr\"] / df_merge[\"denominator\"]).sum() / n_users\n",
    "\n",
    "    eval_map = map_at_k(test, all_predictions, col_prediction='prediction', k=TOP_K)\n",
    "    eval_ndcg = ndcg_at_k(test, all_predictions, col_prediction='prediction', k=TOP_K)\n",
    "    eval_precision = precision_at_k(test, all_predictions, col_prediction='prediction', k=TOP_K)\n",
    "    eval_recall = recall_at_k(test, all_predictions, col_prediction='prediction', k=TOP_K)\n",
    "\n",
    "    print(\"MAP:\\t\\t%f\" % eval_map,\n",
    "          \"NDCG:\\t\\t%f\" % eval_ndcg,\n",
    "          \"Precision@K:\\t%f\" % eval_precision,\n",
    "          \"Recall@K:\\t%f\" % eval_recall, sep='\\n')\n",
    "    return [eval_map, eval_ndcg, eval_precision, eval_recall]"
   ]
  },
  {
   "cell_type": "code",
   "execution_count": 8,
   "metadata": {},
   "outputs": [],
   "source": [
    "pd.options.display.float_format = \"{:,.2f}\".format\n",
    "prec = []"
   ]
  },
  {
   "cell_type": "code",
   "execution_count": 9,
   "metadata": {},
   "outputs": [
    {
     "name": "stderr",
     "output_type": "stream",
     "text": [
      "INFO:recommenders.models.ncf.dataset:Indexing .\\cache\\./train.csv ...\n",
      "INFO:recommenders.models.ncf.dataset:Indexing .\\cache\\./test.csv ...\n",
      "INFO:recommenders.models.ncf.dataset:Indexing .\\cache\\./test_full.csv ...\n"
     ]
    },
    {
     "name": "stdout",
     "output_type": "stream",
     "text": [
      "Took 57.4914 seconds for training.\n",
      "Took 0.2942 seconds for prediction.\n",
      "MAP:\t\t0.070100\n",
      "NDCG:\t\t0.084068\n",
      "Precision@K:\t0.028873\n",
      "Recall@K:\t0.124707\n",
      "\n",
      "Сегмент: 0\n",
      "Пользователь: 517883807\n",
      "Рекомендовано: ['water_heater', 'headphone', 'notebook', 'desktop', 'tv']\n",
      "Куплено: {'subwoofer'}\n",
      "\n",
      "Пользователь: 555991595\n",
      "Рекомендовано: ['desktop', 'monitor', 'hdd', 'juicer', 'headphone']\n",
      "Куплено: {'tv', 'carriage'}\n",
      "\n"
     ]
    },
    {
     "name": "stderr",
     "output_type": "stream",
     "text": [
      "INFO:recommenders.models.ncf.dataset:Indexing .\\cache\\./train.csv ...\n",
      "INFO:recommenders.models.ncf.dataset:Indexing .\\cache\\./test.csv ...\n",
      "INFO:recommenders.models.ncf.dataset:Indexing .\\cache\\./test_full.csv ...\n"
     ]
    },
    {
     "name": "stdout",
     "output_type": "stream",
     "text": [
      "Took 178.7956 seconds for training.\n",
      "Took 0.8803 seconds for prediction.\n",
      "MAP:\t\t0.043661\n",
      "NDCG:\t\t0.052908\n",
      "Precision@K:\t0.017664\n",
      "Recall@K:\t0.079416\n",
      "\n",
      "Сегмент: 1\n",
      "Пользователь: 530238994\n",
      "Рекомендовано: ['bath', 'pillow', 'wallet', 'camera', 'compressor']\n",
      "Куплено: {'projector'}\n",
      "\n",
      "Пользователь: 546095675\n",
      "Рекомендовано: ['tv', 'headphone', 'desktop', 'blender', 'kettle']\n",
      "Куплено: {'shoes'}\n",
      "\n"
     ]
    },
    {
     "name": "stderr",
     "output_type": "stream",
     "text": [
      "INFO:recommenders.models.ncf.dataset:Indexing .\\cache\\./train.csv ...\n",
      "INFO:recommenders.models.ncf.dataset:Indexing .\\cache\\./test.csv ...\n",
      "INFO:recommenders.models.ncf.dataset:Indexing .\\cache\\./test_full.csv ...\n"
     ]
    },
    {
     "name": "stdout",
     "output_type": "stream",
     "text": [
      "Took 43.9143 seconds for training.\n",
      "Took 0.2416 seconds for prediction.\n",
      "MAP:\t\t0.119790\n",
      "NDCG:\t\t0.145906\n",
      "Precision@K:\t0.054545\n",
      "Recall@K:\t0.217452\n",
      "\n",
      "Сегмент: 2\n",
      "Пользователь: 514046566\n",
      "Рекомендовано: ['keyboard', 'ironing_board', 'washer', 'hdd', 'headphone']\n",
      "Куплено: {'mouse'}\n",
      "\n",
      "Пользователь: 536135060\n",
      "Рекомендовано: ['hdd', 'videocards', 'cpu', 'motherboard', 'desktop']\n",
      "Куплено: {'memory'}\n",
      "\n"
     ]
    },
    {
     "name": "stderr",
     "output_type": "stream",
     "text": [
      "INFO:recommenders.models.ncf.dataset:Indexing .\\cache\\./train.csv ...\n",
      "INFO:recommenders.models.ncf.dataset:Indexing .\\cache\\./test.csv ...\n",
      "INFO:recommenders.models.ncf.dataset:Indexing .\\cache\\./test_full.csv ...\n"
     ]
    },
    {
     "name": "stdout",
     "output_type": "stream",
     "text": [
      "Took 1904.2036 seconds for training.\n",
      "Took 2.1050 seconds for prediction.\n",
      "MAP:\t\t0.024797\n",
      "NDCG:\t\t0.032525\n",
      "Precision@K:\t0.013467\n",
      "Recall@K:\t0.052281\n",
      "\n",
      "Сегмент: 3\n",
      "Пользователь: 536479302\n",
      "Рекомендовано: ['skates', 'vacuum', 'bag', 'tablet', 'tv']\n",
      "Куплено: {'air_heater'}\n",
      "\n",
      "Пользователь: 564697582\n",
      "Рекомендовано: ['clocks', 'tv', 'skates', 'vacuum', 'notebook']\n",
      "Куплено: {'headphone'}\n",
      "\n"
     ]
    },
    {
     "name": "stderr",
     "output_type": "stream",
     "text": [
      "INFO:recommenders.models.ncf.dataset:Indexing .\\cache\\./train.csv ...\n",
      "INFO:recommenders.models.ncf.dataset:Indexing .\\cache\\./test.csv ...\n",
      "INFO:recommenders.models.ncf.dataset:Indexing .\\cache\\./test_full.csv ...\n"
     ]
    },
    {
     "name": "stdout",
     "output_type": "stream",
     "text": [
      "Took 65.5106 seconds for training.\n",
      "Took 0.4111 seconds for prediction.\n",
      "MAP:\t\t0.136565\n",
      "NDCG:\t\t0.155102\n",
      "Precision@K:\t0.046734\n",
      "Recall@K:\t0.205611\n",
      "\n",
      "Сегмент: 4\n",
      "Пользователь: 542867919\n",
      "Рекомендовано: ['headphone', 'toster', 'desktop', 'ironing_board', 'grill']\n",
      "Куплено: {'kettle', 'clocks', 'iron'}\n",
      "\n",
      "Пользователь: 516315889\n",
      "Рекомендовано: ['hood', 'refrigerators', 'meat_grinder', 'tv', 'microwave']\n",
      "Куплено: {'oven', 'hob'}\n",
      "\n"
     ]
    },
    {
     "name": "stderr",
     "output_type": "stream",
     "text": [
      "INFO:recommenders.models.ncf.dataset:Indexing .\\cache\\./train.csv ...\n",
      "INFO:recommenders.models.ncf.dataset:Indexing .\\cache\\./test.csv ...\n",
      "INFO:recommenders.models.ncf.dataset:Indexing .\\cache\\./test_full.csv ...\n"
     ]
    },
    {
     "name": "stdout",
     "output_type": "stream",
     "text": [
      "Took 23.3342 seconds for training.\n",
      "Took 0.1594 seconds for prediction.\n",
      "MAP:\t\t0.120267\n",
      "NDCG:\t\t0.138945\n",
      "Precision@K:\t0.047826\n",
      "Recall@K:\t0.171649\n",
      "\n",
      "Сегмент: 5\n",
      "Пользователь: 554382639\n",
      "Рекомендовано: ['generator', 'refrigerators', 'telephone', 'hood', 'meat_grinder']\n",
      "Куплено: {'tv', 'headphone', 'clocks', 'desktop', 'water_heater', 'microwave'}\n",
      "\n",
      "Пользователь: 538414176\n",
      "Рекомендовано: ['dishwasher', 'washer', 'refrigerators', 'tablet', 'vacuum']\n",
      "Куплено: {'tv', 'air_conditioner', 'iron'}\n",
      "\n"
     ]
    },
    {
     "name": "stderr",
     "output_type": "stream",
     "text": [
      "INFO:recommenders.models.ncf.dataset:Indexing .\\cache\\./train.csv ...\n",
      "INFO:recommenders.models.ncf.dataset:Indexing .\\cache\\./test.csv ...\n",
      "INFO:recommenders.models.ncf.dataset:Indexing .\\cache\\./test_full.csv ...\n"
     ]
    },
    {
     "name": "stdout",
     "output_type": "stream",
     "text": [
      "Took 700.4988 seconds for training.\n",
      "Took 1.0445 seconds for prediction.\n",
      "MAP:\t\t0.046479\n",
      "NDCG:\t\t0.061087\n",
      "Precision@K:\t0.023618\n",
      "Recall@K:\t0.101532\n",
      "\n",
      "Сегмент: 6\n",
      "Пользователь: 560196463\n",
      "Рекомендовано: ['bed', 'sewing_machine', 'chair', 'washer', 'microwave']\n",
      "Куплено: {'tv', 'iron'}\n",
      "\n",
      "Пользователь: 523606047\n",
      "Рекомендовано: ['microwave', 'chair', 'sewing_machine', 'bed', 'tv']\n",
      "Куплено: {'iron'}\n",
      "\n"
     ]
    },
    {
     "name": "stderr",
     "output_type": "stream",
     "text": [
      "INFO:recommenders.models.ncf.dataset:Indexing .\\cache\\./train.csv ...\n",
      "INFO:recommenders.models.ncf.dataset:Indexing .\\cache\\./test.csv ...\n",
      "INFO:recommenders.models.ncf.dataset:Indexing .\\cache\\./test_full.csv ...\n"
     ]
    },
    {
     "name": "stdout",
     "output_type": "stream",
     "text": [
      "Took 52.6622 seconds for training.\n",
      "Took 0.2977 seconds for prediction.\n",
      "MAP:\t\t0.087466\n",
      "NDCG:\t\t0.095210\n",
      "Precision@K:\t0.029752\n",
      "Recall@K:\t0.113407\n",
      "\n",
      "Сегмент: 7\n",
      "Пользователь: 520003920\n",
      "Рекомендовано: ['player', 'drill', 'washer', 'tv', 'vacuum']\n",
      "Куплено: {'tv', 'player', 'subwoofer'}\n",
      "\n",
      "Пользователь: 518565207\n",
      "Рекомендовано: ['subwoofer', 'refrigerators', 'clocks', 'telephone', 'headphone']\n",
      "Куплено: {'chair', 'subwoofer'}\n",
      "\n"
     ]
    },
    {
     "name": "stderr",
     "output_type": "stream",
     "text": [
      "INFO:recommenders.models.ncf.dataset:Indexing .\\cache\\./train.csv ...\n",
      "INFO:recommenders.models.ncf.dataset:Indexing .\\cache\\./test.csv ...\n",
      "INFO:recommenders.models.ncf.dataset:Indexing .\\cache\\./test_full.csv ...\n"
     ]
    },
    {
     "name": "stdout",
     "output_type": "stream",
     "text": [
      "Took 80.4033 seconds for training.\n",
      "Took 0.4488 seconds for prediction.\n",
      "MAP:\t\t0.071262\n",
      "NDCG:\t\t0.090275\n",
      "Precision@K:\t0.034146\n",
      "Recall@K:\t0.140159\n",
      "\n",
      "Сегмент: 8\n",
      "Пользователь: 518066620\n",
      "Рекомендовано: ['scales', 'iron', 'vacuum', 'microwave', 'water_heater']\n",
      "Куплено: {'kettle', 'washer'}\n",
      "\n",
      "Пользователь: 557068849\n",
      "Рекомендовано: ['washer', 'tv', 'water_heater', 'tablet', 'juicer']\n",
      "Куплено: {'notebook', 'printer'}\n",
      "\n"
     ]
    },
    {
     "name": "stderr",
     "output_type": "stream",
     "text": [
      "INFO:recommenders.models.ncf.dataset:Indexing .\\cache\\./train.csv ...\n",
      "INFO:recommenders.models.ncf.dataset:Indexing .\\cache\\./test.csv ...\n",
      "INFO:recommenders.models.ncf.dataset:Indexing .\\cache\\./test_full.csv ...\n"
     ]
    },
    {
     "name": "stdout",
     "output_type": "stream",
     "text": [
      "Took 167.4046 seconds for training.\n",
      "Took 0.5574 seconds for prediction.\n",
      "MAP:\t\t0.057373\n",
      "NDCG:\t\t0.072222\n",
      "Precision@K:\t0.027810\n",
      "Recall@K:\t0.112399\n",
      "\n",
      "Сегмент: 9\n",
      "Пользователь: 534746575\n",
      "Рекомендовано: ['tv', 'mixer', 'microwave', 'notebook', 'vacuum']\n",
      "Куплено: {'keds'}\n",
      "\n",
      "Пользователь: 512471414\n",
      "Рекомендовано: ['blender', 'notebook', 'meat_grinder', 'headphone', 'hair_cutter']\n",
      "Куплено: {'refrigerators', 'player'}\n",
      "\n"
     ]
    },
    {
     "name": "stderr",
     "output_type": "stream",
     "text": [
      "INFO:recommenders.models.ncf.dataset:Indexing .\\cache\\./train.csv ...\n",
      "INFO:recommenders.models.ncf.dataset:Indexing .\\cache\\./test.csv ...\n",
      "INFO:recommenders.models.ncf.dataset:Indexing .\\cache\\./test_full.csv ...\n"
     ]
    },
    {
     "name": "stdout",
     "output_type": "stream",
     "text": [
      "Took 28.2764 seconds for training.\n",
      "Took 0.3219 seconds for prediction.\n",
      "MAP:\t\t0.026753\n",
      "NDCG:\t\t0.037444\n",
      "Precision@K:\t0.019048\n",
      "Recall@K:\t0.061839\n",
      "\n",
      "Сегмент: 10\n",
      "Пользователь: 513349635\n",
      "Рекомендовано: ['refrigerators', 'grill', 'generator', 'washer', 'keds']\n",
      "Куплено: {'bag', 'ironing_board', 'iron', 'umbrella'}\n",
      "\n",
      "Пользователь: 515452337\n",
      "Рекомендовано: ['coffee_machine', 'mixer', 'printer', 'iron', 'notebook']\n",
      "Куплено: {'vacuum', 'mouse'}\n",
      "\n"
     ]
    },
    {
     "name": "stderr",
     "output_type": "stream",
     "text": [
      "INFO:recommenders.models.ncf.dataset:Indexing .\\cache\\./train.csv ...\n",
      "INFO:recommenders.models.ncf.dataset:Indexing .\\cache\\./test.csv ...\n",
      "INFO:recommenders.models.ncf.dataset:Indexing .\\cache\\./test_full.csv ...\n"
     ]
    },
    {
     "name": "stdout",
     "output_type": "stream",
     "text": [
      "Took 72.3776 seconds for training.\n",
      "Took 0.4454 seconds for prediction.\n",
      "MAP:\t\t0.072099\n",
      "NDCG:\t\t0.087308\n",
      "Precision@K:\t0.034429\n",
      "Recall@K:\t0.122663\n",
      "\n",
      "Сегмент: 11\n",
      "Пользователь: 568320937\n",
      "Рекомендовано: ['clocks', 'keds', 'tv', 'acoustic', 'videoregister']\n",
      "Куплено: {'shoes', 'clocks'}\n",
      "\n",
      "Пользователь: 564038011\n",
      "Рекомендовано: ['refrigerators', 'keds', 'notebook', 'vacuum', 'water_heater']\n",
      "Куплено: {'tv', 'carriage', 'washer'}\n",
      "\n"
     ]
    },
    {
     "name": "stderr",
     "output_type": "stream",
     "text": [
      "INFO:recommenders.models.ncf.dataset:Indexing .\\cache\\./train.csv ...\n",
      "INFO:recommenders.models.ncf.dataset:Indexing .\\cache\\./test.csv ...\n",
      "INFO:recommenders.models.ncf.dataset:Indexing .\\cache\\./test_full.csv ...\n"
     ]
    },
    {
     "name": "stdout",
     "output_type": "stream",
     "text": [
      "Took 35.3669 seconds for training.\n",
      "Took 0.1866 seconds for prediction.\n",
      "MAP:\t\t0.025751\n",
      "NDCG:\t\t0.029129\n",
      "Precision@K:\t0.011159\n",
      "Recall@K:\t0.044349\n",
      "\n",
      "Сегмент: 12\n",
      "Пользователь: 517157331\n",
      "Рекомендовано: ['generator', 'carriage', 'toys', 'headphone', 'microwave']\n",
      "Куплено: {'headphone', 'bicycle'}\n",
      "\n",
      "Пользователь: 552801943\n",
      "Рекомендовано: ['carriage', 'generator', 'saw', 'bicycle', 'swing']\n",
      "Куплено: {'toys'}\n",
      "\n",
      "CPU times: total: 57min 45s\n",
      "Wall time: 57min 35s\n"
     ]
    }
   ],
   "source": [
    "%%time\n",
    "random.seed(42)\n",
    "dataset = pd.read_pickle(ds_flt_file) # Полные данные после фильтрации\n",
    "ds = pd.read_pickle(showcase_seg_file) # Сегментированная витрина\n",
    "prec = []\n",
    "for seg in set(ds['Segment']):\n",
    "    df = ds[ds['Segment']==seg].copy()\n",
    "    df.reset_index('user_id', inplace=True)\n",
    "    df = dataset[(dataset['event_type'] == 'purchase') & (dataset['user_id'].isin(df['user_id']))][['user_id', 'category_code_level2', 'event_time']]\n",
    "    df['rating'] = 1\n",
    "    df.rename(columns = {'user_id': 'userID', 'category_code_level2': 'category', 'event_time': 'timestamp'}, inplace=True)\n",
    "    factor = pd.factorize(df['category'])\n",
    "    df['itemID'] = factor[0]\n",
    "    # Split the data using the Spark chronological splitter provided in utilities\n",
    "    train, test = python_chrono_split(df, ratio = 0.75)\n",
    "    \n",
    "    # Filter out any users or items in the test set that do not appear in the training set.\n",
    "    test = test[test[\"userID\"].isin(train[\"userID\"].unique())]\n",
    "    test = test[test[\"itemID\"].isin(train[\"itemID\"].unique())]\n",
    "    \n",
    "    # Write datasets to csv files.\n",
    "    train_file = cache_dir + \"./train.csv\"\n",
    "    test_file = cache_dir + \"./test.csv\"\n",
    "    train.to_csv(train_file, index=False)\n",
    "    test.to_csv(test_file, index=False)\n",
    "\n",
    "    # Generate an NCF dataset object from the data subsets.\n",
    "    data = NCFDataset(train_file=train_file, test_file=test_file, seed=SEED)\n",
    "    \n",
    "    model = NCF (\n",
    "        n_users=data.n_users, \n",
    "        n_items=data.n_items,\n",
    "        model_type=\"NeuMF\",\n",
    "        n_factors=4,\n",
    "        layer_sizes=[16,8,4],\n",
    "        n_epochs=EPOCHS,\n",
    "        batch_size=BATCH_SIZE,\n",
    "        learning_rate=1e-3,\n",
    "        verbose=0,\n",
    "        seed=SEED\n",
    "    )\n",
    "    \n",
    "    with Timer() as train_time:\n",
    "        model.fit(data)\n",
    "    print(f'Took {train_time} seconds for training.')\n",
    "    # Plot the train RMSE as a function of the epochs\n",
    "    dir('model')\n",
    "    #line_graph(values=model.data, labels='train', x_name='epoch', y_name='rmse_train');\n",
    "    \n",
    "    with Timer() as test_time:\n",
    "        users, items, preds = [], [], []\n",
    "        item = list(train.itemID.unique())\n",
    "        for user in train.userID.unique():\n",
    "            user = [user] * len(item) \n",
    "            users.extend(user)\n",
    "            items.extend(item)\n",
    "            preds.extend(list(model.predict(user, item, is_list=True)))\n",
    "\n",
    "        all_predictions = pd.DataFrame(data={\"userID\": users, \"itemID\":items, \"prediction\":preds})\n",
    "\n",
    "        merged = pd.merge(train, all_predictions, on=[\"userID\", \"itemID\"], how=\"outer\")\n",
    "        all_predictions = merged[merged.rating.isnull()].drop('rating', axis=1)\n",
    "    print(f'Took {test_time} seconds for prediction.')\n",
    "    \n",
    "    prec.append(eval_ncf())\n",
    "    # Train the NCF model on the training data, and get the top-k recommendations for our testing data\n",
    "    # NCF accepts implicit feedback and generates prospensity of items to be recommended to users \n",
    "    # in the scale of 0 to 1. A recommended item list can then be generated based on the scores. \n",
    "    # Note that this quickstart notebook is using a smaller number of epochs to reduce time for training. \n",
    "    # As a consequence, the model performance will be slighlty deteriorated.\n",
    "    print(f'\\nСегмент: {seg}')\n",
    "    for n in random.sample(range(0, len(all_predictions)), 2):\n",
    "    #for n in [0, 100]:\n",
    "        user_id = all_predictions['userID'].iloc[n]\n",
    "        print(f'Пользователь: {user_id}')\n",
    "        print(f'Рекомендовано: {[factor[1][idx] for idx in all_predictions[all_predictions[\"userID\"]==user_id].sort_values(\"prediction\",ascending = False).head(5)[\"itemID\"]]}')\n",
    "        print(f'Куплено: {set(dataset[(dataset[\"user_id\"]==user_id) & (dataset[\"event_type\"]==\"purchase\")][\"category_code_level2\"])}\\n')\n",
    "\n",
    "prec = pd.DataFrame(prec, columns=['MAP', 'NDCG', 'Precision@K', 'Recall@K'])\n",
    "prec.index.name = 'Segment'"
   ]
  },
  {
   "cell_type": "code",
   "execution_count": 12,
   "metadata": {},
   "outputs": [
    {
     "name": "stdout",
     "output_type": "stream",
     "text": [
      "Метрики ранжирования\n"
     ]
    },
    {
     "data": {
      "text/html": [
       "<table border=\"1\" class=\"dataframe\">\n",
       "  <thead>\n",
       "    <tr style=\"text-align: right;\">\n",
       "      <th>Segment</th>\n",
       "      <th>0</th>\n",
       "      <th>1</th>\n",
       "      <th>2</th>\n",
       "      <th>3</th>\n",
       "      <th>4</th>\n",
       "      <th>5</th>\n",
       "      <th>6</th>\n",
       "      <th>7</th>\n",
       "      <th>8</th>\n",
       "      <th>9</th>\n",
       "      <th>10</th>\n",
       "      <th>11</th>\n",
       "      <th>12</th>\n",
       "    </tr>\n",
       "  </thead>\n",
       "  <tbody>\n",
       "    <tr>\n",
       "      <th>MAP</th>\n",
       "      <td>0.07</td>\n",
       "      <td>0.04</td>\n",
       "      <td>0.12</td>\n",
       "      <td>0.02</td>\n",
       "      <td>0.14</td>\n",
       "      <td>0.12</td>\n",
       "      <td>0.05</td>\n",
       "      <td>0.09</td>\n",
       "      <td>0.07</td>\n",
       "      <td>0.06</td>\n",
       "      <td>0.03</td>\n",
       "      <td>0.07</td>\n",
       "      <td>0.03</td>\n",
       "    </tr>\n",
       "    <tr>\n",
       "      <th>NDCG</th>\n",
       "      <td>0.08</td>\n",
       "      <td>0.05</td>\n",
       "      <td>0.15</td>\n",
       "      <td>0.03</td>\n",
       "      <td>0.16</td>\n",
       "      <td>0.14</td>\n",
       "      <td>0.06</td>\n",
       "      <td>0.10</td>\n",
       "      <td>0.09</td>\n",
       "      <td>0.07</td>\n",
       "      <td>0.04</td>\n",
       "      <td>0.09</td>\n",
       "      <td>0.03</td>\n",
       "    </tr>\n",
       "    <tr>\n",
       "      <th>Precision@K</th>\n",
       "      <td>0.03</td>\n",
       "      <td>0.02</td>\n",
       "      <td>0.05</td>\n",
       "      <td>0.01</td>\n",
       "      <td>0.05</td>\n",
       "      <td>0.05</td>\n",
       "      <td>0.02</td>\n",
       "      <td>0.03</td>\n",
       "      <td>0.03</td>\n",
       "      <td>0.03</td>\n",
       "      <td>0.02</td>\n",
       "      <td>0.03</td>\n",
       "      <td>0.01</td>\n",
       "    </tr>\n",
       "    <tr>\n",
       "      <th>Recall@K</th>\n",
       "      <td>0.12</td>\n",
       "      <td>0.08</td>\n",
       "      <td>0.22</td>\n",
       "      <td>0.05</td>\n",
       "      <td>0.21</td>\n",
       "      <td>0.17</td>\n",
       "      <td>0.10</td>\n",
       "      <td>0.11</td>\n",
       "      <td>0.14</td>\n",
       "      <td>0.11</td>\n",
       "      <td>0.06</td>\n",
       "      <td>0.12</td>\n",
       "      <td>0.04</td>\n",
       "    </tr>\n",
       "  </tbody>\n",
       "</table>"
      ],
      "text/plain": [
       "<IPython.core.display.HTML object>"
      ]
     },
     "metadata": {},
     "output_type": "display_data"
    },
    {
     "name": "stdout",
     "output_type": "stream",
     "text": [
      "MAP 0.06941244818478082\n",
      "NDCG 0.08324066200210387\n",
      "Precision@K 0.029928574440131396\n",
      "Recall@K 0.1190356131253955\n"
     ]
    }
   ],
   "source": [
    "from user_func import prdf\n",
    "prec.index.name = 'Segment'\n",
    "print('Метрики ранжирования')\n",
    "prdf(prec.T)\n",
    "for col in prec.columns:\n",
    "    print(col, prec[col].mean())"
   ]
  },
  {
   "cell_type": "code",
   "execution_count": 11,
   "metadata": {},
   "outputs": [
    {
     "name": "stdout",
     "output_type": "stream",
     "text": [
      "57:35\n"
     ]
    }
   ],
   "source": [
    "seconds=int(time.time() - start_time)\n",
    "print(\"%d:%02d\" % (seconds//60, seconds-60*(seconds//60),))"
   ]
  },
  {
   "cell_type": "code",
   "execution_count": null,
   "metadata": {},
   "outputs": [],
   "source": []
  }
 ],
 "metadata": {
  "kaggle": {
   "accelerator": "none",
   "dataSources": [
    {
     "datasetId": 411512,
     "sourceId": 835452,
     "sourceType": "datasetVersion"
    }
   ],
   "dockerImageVersionId": 30635,
   "isGpuEnabled": false,
   "isInternetEnabled": true,
   "language": "python",
   "sourceType": "notebook"
  },
  "kernelspec": {
   "display_name": "Python [conda env:py39] *",
   "language": "python",
   "name": "conda-env-py39-py"
  },
  "language_info": {
   "codemirror_mode": {
    "name": "ipython",
    "version": 3
   },
   "file_extension": ".py",
   "mimetype": "text/x-python",
   "name": "python",
   "nbconvert_exporter": "python",
   "pygments_lexer": "ipython3",
   "version": "3.9.19"
  }
 },
 "nbformat": 4,
 "nbformat_minor": 4
}
