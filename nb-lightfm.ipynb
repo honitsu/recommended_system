{
 "cells": [
  {
   "cell_type": "code",
   "execution_count": 1,
   "metadata": {},
   "outputs": [],
   "source": [
    "# nb-lightfm.ipynb"
   ]
  },
  {
   "cell_type": "markdown",
   "metadata": {},
   "source": [
    "# Importing the Necessary Libraries"
   ]
  },
  {
   "cell_type": "code",
   "execution_count": 2,
   "metadata": {},
   "outputs": [
    {
     "name": "stderr",
     "output_type": "stream",
     "text": [
      "D:\\Anaconda\\lib\\site-packages\\lightfm\\_lightfm_fast.py:9: UserWarning: LightFM was compiled without OpenMP support. Only a single thread will be used.\n",
      "  warnings.warn(\n"
     ]
    },
    {
     "name": "stdout",
     "output_type": "stream",
     "text": [
      ".\\cache\\2019-Nov.csv\n",
      ".\\cache\\2019-Oct.csv\n"
     ]
    }
   ],
   "source": [
    "import sys\n",
    "import numpy as np\n",
    "import pandas as pd\n",
    "import multiprocessing\n",
    "import time\n",
    "import lightfm\n",
    "import random\n",
    "from lightfm import LightFM\n",
    "from lightfm.evaluation import auc_score, precision_at_k\n",
    "from lightfm.cross_validation import random_train_test_split\n",
    "from scipy import sparse\n",
    "from settings import *\n",
    "from sklearn.metrics.pairwise import cosine_similarity\n",
    "from sklearn.model_selection import train_test_split\n",
    "from user_func import toratings"
   ]
  },
  {
   "cell_type": "code",
   "execution_count": 3,
   "metadata": {},
   "outputs": [
    {
     "name": "stdout",
     "output_type": "stream",
     "text": [
      "System version:  3.9.16 (main, Mar  8 2023, 10:39:24) [MSC v.1916 64 bit (AMD64)]\n",
      "Pandas version:  1.5.3\n",
      "Numpy version:   1.23.5\n",
      "LightFM version: 1.17\n"
     ]
    }
   ],
   "source": [
    "print(f'System version:  {sys.version}')\n",
    "print(f'Pandas version:  {pd.__version__}')\n",
    "print(f'Numpy version:   {np.__version__}')\n",
    "print(f'LightFM version: {lightfm.__version__}')"
   ]
  },
  {
   "cell_type": "code",
   "execution_count": 4,
   "metadata": {},
   "outputs": [],
   "source": [
    "start_time = time.time()"
   ]
  },
  {
   "cell_type": "code",
   "execution_count": 5,
   "metadata": {},
   "outputs": [
    {
     "data": {
      "text/plain": [
       "'%.2f'"
      ]
     },
     "execution_count": 5,
     "metadata": {},
     "output_type": "execute_result"
    }
   ],
   "source": [
    "%precision 2"
   ]
  },
  {
   "cell_type": "code",
   "execution_count": 6,
   "metadata": {},
   "outputs": [],
   "source": [
    "dataset = pd.read_pickle(ds_flt_file) # Полные данные после фильтрации\n",
    "ds = pd.read_pickle(showcase_seg_file) # Сегментированная витрина\n",
    "ds = ds[ds['Segment']==13]\n",
    "df = toratings(ds, dataset)\n",
    "#ds = ds['userID', 'category', 'rating']"
   ]
  },
  {
   "cell_type": "code",
   "execution_count": 7,
   "metadata": {},
   "outputs": [],
   "source": [
    "#df.head()"
   ]
  },
  {
   "cell_type": "markdown",
   "metadata": {},
   "source": [
    "# Function for Creating the Interaction Matrix"
   ]
  },
  {
   "cell_type": "code",
   "execution_count": 8,
   "metadata": {},
   "outputs": [],
   "source": [
    "def create_interaction_matrix(df, user_col, item_col, rating_col, norm=False, threshold = None):\n",
    "    '''\n",
    "    Function to create an interaction matrix dataframe from transactional type interactions\n",
    "    Required Input -\n",
    "        - df = Pandas DataFrame containing user-item interactions\n",
    "        - user_col = column name containing user's identifier\n",
    "        - item_col = column name containing item's identifier\n",
    "        - rating col = column name containing user feedback on interaction with a given item\n",
    "        - norm (optional) = True if a normalization of ratings is needed\n",
    "        - threshold (required if norm = True) = value above which the rating is favorable\n",
    "    Expected output - \n",
    "        - Pandas dataframe with user-item interactions ready to be fed in a recommendation algorithm\n",
    "    '''\n",
    "    interactions = df.groupby([user_col, item_col])[rating_col] \\\n",
    "            .sum().unstack().reset_index(). \\\n",
    "            fillna(0).set_index(user_col)\n",
    "    if norm:\n",
    "        interactions = interactions.applymap(lambda x: 1 if x > threshold else 0)\n",
    "    return interactions"
   ]
  },
  {
   "cell_type": "markdown",
   "metadata": {},
   "source": [
    "# Interaction Matrix"
   ]
  },
  {
   "cell_type": "code",
   "execution_count": 9,
   "metadata": {},
   "outputs": [],
   "source": [
    "#interactions = create_interaction_matrix(df_r, user_col = 'userID', item_col = 'itemID', rating_col = 'rating')"
   ]
  },
  {
   "cell_type": "markdown",
   "metadata": {},
   "source": [
    "### Evaluate how well LightFM performs"
   ]
  },
  {
   "cell_type": "code",
   "execution_count": 10,
   "metadata": {},
   "outputs": [],
   "source": [
    "K_NUM = 10\n",
    "def check_method(interactions):\n",
    "    x = sparse.csr_matrix(interactions.values)\n",
    "    train, test = random_train_test_split(x, test_percentage=0.2, random_state=42)\n",
    "    # Due to windows environment issue in v1.17 only default 'logistic' loss is working.\n",
    "    model = LightFM(learning_rate=0.05, loss='logistic')\n",
    "    model.fit(test, epochs = 300)\n",
    "\n",
    "    train_precision = precision_at_k(model, train, k=K_NUM, num_threads=multiprocessing.cpu_count()).mean()\n",
    "    test_precision = precision_at_k(model, test, k=K_NUM, num_threads=multiprocessing.cpu_count()).mean()\n",
    "\n",
    "    train_auc = auc_score(model, train).mean()\n",
    "    test_auc = auc_score(model, test).mean()\n",
    "\n",
    "    print(f'Precision: train {train_precision:.2f}, test {test_precision:.2f}.')\n",
    "    print(f'AUC: train {train_auc:.2f}, test {test_auc:.2f}.')\n",
    "    return [train_precision, test_precision, train_auc, test_auc]"
   ]
  },
  {
   "cell_type": "markdown",
   "metadata": {},
   "source": [
    "# Running the Model Function"
   ]
  },
  {
   "cell_type": "code",
   "execution_count": 11,
   "metadata": {},
   "outputs": [],
   "source": [
    "def runMF(interactions, n_components=30, k=15, epoch = 300, n_jobs=1):\n",
    "    '''\n",
    "    Function to run matrix-factorization algorithm\n",
    "    Required Input -\n",
    "        - interactions = dataset create by create_interaction_matrix\n",
    "        - n_components = number of embeddings you want to create to define Item and user\n",
    "        - loss = loss function other options are logistic, brp\n",
    "        - epoch = number of epochs to run \n",
    "        - n_jobs = number of cores used for execution \n",
    "    Expected Output  -h\n",
    "        Model - Trained model\n",
    "    '''\n",
    "    x = sparse.csr_matrix(interactions.values)\n",
    "    model = LightFM(learning_rate=0.05, no_components = n_components, k = k)\n",
    "    model.fit(x, epochs = epoch, num_threads = n_jobs)\n",
    "    return model"
   ]
  },
  {
   "cell_type": "code",
   "execution_count": 12,
   "metadata": {},
   "outputs": [],
   "source": [
    "#model = runMF(interactions, n_components = 30, k = 15, epoch = 100, n_jobs = 4)"
   ]
  },
  {
   "cell_type": "markdown",
   "metadata": {},
   "source": [
    "# Creating the User and Item Dictionary"
   ]
  },
  {
   "cell_type": "code",
   "execution_count": 13,
   "metadata": {},
   "outputs": [],
   "source": [
    "def create_item_dict(df,id_col,name_col):\n",
    "    '''\n",
    "    Function to create an item dictionary based on their item_id and item name\n",
    "    Required Input - \n",
    "        - df = Pandas dataframe with Item information\n",
    "        - id_col = Column name containing unique identifier for an item\n",
    "        - name_col = Column name containing name of the item\n",
    "    Expected Output -\n",
    "        item_dict = Dictionary type output containing item_id as key and item_name as value\n",
    "    '''\n",
    "    item_dict ={}\n",
    "    for i in range(df.shape[0]):\n",
    "        item_dict[(df.loc[i,id_col])] = df.loc[i,name_col]\n",
    "    return item_dict"
   ]
  },
  {
   "cell_type": "code",
   "execution_count": 14,
   "metadata": {},
   "outputs": [],
   "source": [
    "#item_dict = create_item_dict(df_r,'itemID','category')"
   ]
  },
  {
   "cell_type": "code",
   "execution_count": 15,
   "metadata": {},
   "outputs": [],
   "source": [
    "def create_user_dict(interactions):\n",
    "    '''\n",
    "    Function to create a user dictionary based on their index and number in interaction dataset\n",
    "    Required Input - \n",
    "        interactions - dataset create by create_interaction_matrix\n",
    "    Expected Output -\n",
    "        user_dict - Dictionary type output containing interaction_index as key and user_id as value\n",
    "    '''\n",
    "    user_id = list(interactions.index)\n",
    "    user_dict = {}\n",
    "    counter = 0 \n",
    "    for i in user_id:\n",
    "        user_dict[i] = counter\n",
    "        counter += 1\n",
    "    return user_dict"
   ]
  },
  {
   "cell_type": "code",
   "execution_count": 16,
   "metadata": {},
   "outputs": [],
   "source": [
    "#user_dict = create_user_dict(interactions)"
   ]
  },
  {
   "cell_type": "markdown",
   "metadata": {},
   "source": [
    "# Sample Recommendations"
   ]
  },
  {
   "cell_type": "code",
   "execution_count": 17,
   "metadata": {},
   "outputs": [],
   "source": [
    "def sample_recommendation_user(model, interactions, user_id, user_dict, \n",
    "                               item_dict,threshold = 0,nrec_items = 10, show = True):\n",
    "    '''\n",
    "    Function to produce user recommendations\n",
    "    Required Input - \n",
    "        - model = Trained matrix factorization model\n",
    "        - interactions = dataset used for training the model\n",
    "        - user_id = user ID for which we need to generate recommendation\n",
    "        - user_dict = Dictionary type input containing interaction_index as key and user_id as value\n",
    "        - item_dict = Dictionary type input containing item_id as key and item_name as value\n",
    "        - threshold = value above which the rating is favorable in new interaction matrix\n",
    "        - nrec_items = Number of output recommendation needed\n",
    "    Expected Output - \n",
    "        - Prints list of items the given user has already bought\n",
    "        - Prints list of N recommended items  which user hopefully will be interested in\n",
    "    '''\n",
    "    n_users, n_items = interactions.shape\n",
    "    user_x = user_dict[user_id]\n",
    "    scores = pd.Series(model.predict(user_x,np.arange(n_items)))\n",
    "    scores.index = interactions.columns\n",
    "    scores = list(pd.Series(scores.sort_values(ascending=False).index))\n",
    "    \n",
    "    known_items = list(pd.Series(interactions.loc[user_id,:] \\\n",
    "                                 [interactions.loc[user_id,:] > threshold].index) \\\n",
    "                       .sort_values(ascending=False))\n",
    "    \n",
    "    scores = [x for x in scores if x not in known_items]\n",
    "    return_score_list = scores[0:nrec_items]\n",
    "    known_items = set(pd.Series(known_items).apply(lambda x: item_dict[x]))\n",
    "    scores = list(pd.Series(return_score_list).apply(lambda x: item_dict[x]))\n",
    "    if show == True:\n",
    "        print(f'Рекомендовано: {scores}\\nКуплено: {known_items}\\n')\n",
    "    return return_score_list"
   ]
  },
  {
   "cell_type": "code",
   "execution_count": 18,
   "metadata": {},
   "outputs": [],
   "source": [
    "def show_recs(model):\n",
    "    for user in random.sample(range(0, interactions.shape[0]), 2):\n",
    "        print(f'Пользователь: {interactions.index[user]}')\n",
    "        dummy = sample_recommendation_user(model, interactions, interactions.index[user], user_dict, \n",
    "                                   item_dict,threshold = 0, nrec_items = 3, show = True)"
   ]
  },
  {
   "cell_type": "code",
   "execution_count": 19,
   "metadata": {},
   "outputs": [
    {
     "name": "stdout",
     "output_type": "stream",
     "text": [
      "CPU times: total: 1.92 s\n",
      "Wall time: 1.95 s\n"
     ]
    }
   ],
   "source": [
    "%%time\n",
    "dataset = pd.read_pickle(ds_flt_file) # Полные данные после фильтрации\n",
    "ds = pd.read_pickle(showcase_seg_file) # Сегментированная витрина"
   ]
  },
  {
   "cell_type": "code",
   "execution_count": 20,
   "metadata": {},
   "outputs": [],
   "source": [
    "last_model = []"
   ]
  },
  {
   "cell_type": "code",
   "execution_count": 21,
   "metadata": {
    "scrolled": false
   },
   "outputs": [
    {
     "name": "stdout",
     "output_type": "stream",
     "text": [
      "\n",
      "Сегмент: 0\n",
      "Пользователь: 517080137\n",
      "Рекомендовано: ['water_heater', 'notebook', 'desktop']\n",
      "Куплено: {'subwoofer'}\n",
      "\n",
      "Пользователь: 533096777\n",
      "Рекомендовано: ['subwoofer', 'water_heater', 'notebook']\n",
      "Куплено: {'kettle', 'microwave'}\n",
      "\n",
      "================================================================================\n",
      "\n",
      "Сегмент: 1\n",
      "Пользователь: 552033065\n",
      "Рекомендовано: ['shoes', 'kettle', 'desktop']\n",
      "Куплено: {'tv', 'blender'}\n",
      "\n",
      "Пользователь: 530393975\n",
      "Рекомендовано: ['shoes', 'desktop', 'blender']\n",
      "Куплено: {'kettle'}\n",
      "\n",
      "================================================================================\n",
      "\n",
      "Сегмент: 2\n",
      "Пользователь: 559073889\n",
      "Рекомендовано: ['headphone', 'hdd', 'monitor']\n",
      "Куплено: {'mouse', 'keyboard'}\n",
      "\n",
      "Пользователь: 561868975\n",
      "Рекомендовано: ['hdd', 'monitor', 'headphone']\n",
      "Куплено: {'ironing_board'}\n",
      "\n",
      "================================================================================\n",
      "\n",
      "Сегмент: 3\n",
      "Пользователь: 550704779\n",
      "Рекомендовано: ['headphone', 'clocks', 'notebook']\n",
      "Куплено: {'tv'}\n",
      "\n",
      "Пользователь: 539002504\n",
      "Рекомендовано: ['tv', 'clocks', 'notebook']\n",
      "Куплено: {'headphone'}\n",
      "\n",
      "================================================================================\n",
      "\n",
      "Сегмент: 4\n",
      "Пользователь: 560003423\n",
      "Рекомендовано: ['hob', 'oven', 'hood']\n",
      "Куплено: {'grill', 'blender'}\n",
      "\n",
      "Пользователь: 512580994\n",
      "Рекомендовано: ['hob', 'oven', 'hood']\n",
      "Куплено: {'generator', 'vacuum'}\n",
      "\n",
      "================================================================================\n",
      "\n",
      "Сегмент: 5\n",
      "Пользователь: 514248388\n",
      "Рекомендовано: ['dishwasher', 'oven', 'tv']\n",
      "Куплено: {'air_conditioner'}\n",
      "\n",
      "Пользователь: 522804170\n",
      "Рекомендовано: ['dishwasher', 'air_conditioner', 'refrigerators']\n",
      "Куплено: {'oven', 'kettle'}\n",
      "\n",
      "================================================================================\n",
      "\n",
      "Сегмент: 6\n",
      "Пользователь: 530576446\n",
      "Рекомендовано: ['washer', 'vacuum', 'iron']\n",
      "Куплено: {'tv', 'refrigerators'}\n",
      "\n",
      "Пользователь: 540254186\n",
      "Рекомендовано: ['washer', 'vacuum', 'iron']\n",
      "Куплено: {'tv', 'refrigerators', 'microwave'}\n",
      "\n",
      "================================================================================\n",
      "\n",
      "Сегмент: 7\n",
      "Пользователь: 555561884\n",
      "Рекомендовано: ['drill', 'diapers', 'alarm']\n",
      "Куплено: {'subwoofer', 'player'}\n",
      "\n",
      "Пользователь: 535730294\n",
      "Рекомендовано: ['subwoofer', 'player', 'drill']\n",
      "Куплено: {'piano'}\n",
      "\n",
      "================================================================================\n",
      "\n",
      "Сегмент: 8\n",
      "Пользователь: 546536273\n",
      "Рекомендовано: ['printer', 'washer', 'scales']\n",
      "Куплено: {'water_heater', 'iron'}\n",
      "\n",
      "Пользователь: 516939098\n",
      "Рекомендовано: ['printer', 'water_heater', 'notebook']\n",
      "Куплено: {'washer', 'scales'}\n",
      "\n",
      "================================================================================\n",
      "\n",
      "Сегмент: 9\n",
      "Пользователь: 517771884\n",
      "Рекомендовано: ['meat_grinder', 'keds', 'player']\n",
      "Куплено: {'telephone', 'headphone'}\n",
      "\n",
      "Пользователь: 522977650\n",
      "Рекомендовано: ['telephone', 'meat_grinder', 'keds']\n",
      "Куплено: {'hair_cutter'}\n",
      "\n",
      "================================================================================\n",
      "\n",
      "Сегмент: 10\n",
      "Пользователь: 532679805\n",
      "Рекомендовано: ['sewing_machine', 'coffee_machine', 'vacuum']\n",
      "Куплено: {'oven', 'blender', 'air_heater'}\n",
      "\n",
      "Пользователь: 537382335\n",
      "Рекомендовано: ['sewing_machine', 'coffee_machine', 'blender']\n",
      "Куплено: {'generator', 'drill'}\n",
      "\n",
      "================================================================================\n",
      "\n",
      "Сегмент: 11\n",
      "Пользователь: 553554252\n",
      "Рекомендовано: ['alarm', 'shoes', 'clocks']\n",
      "Куплено: {'bag', 'notebook'}\n",
      "\n",
      "Пользователь: 514029675\n",
      "Рекомендовано: ['alarm', 'shoes', 'bag']\n",
      "Куплено: {'clocks', 'headphone', 'videoregister'}\n",
      "\n",
      "================================================================================\n",
      "\n",
      "Сегмент: 12\n",
      "Пользователь: 514450445\n",
      "Рекомендовано: ['saw', 'toys', 'generator']\n",
      "Куплено: {'carriage'}\n",
      "\n",
      "Пользователь: 556436142\n",
      "Рекомендовано: ['carriage', 'toys', 'generator']\n",
      "Куплено: {'saw'}\n",
      "\n",
      "================================================================================\n"
     ]
    }
   ],
   "source": [
    "for seg in set(ds['Segment']):\n",
    "    print(f'\\nСегмент: {seg}')\n",
    "\n",
    "    df = toratings(ds[ds['Segment']==seg], dataset)\n",
    "    df_r=df[[\"userID\",\"itemID\",\"rating\",\"category\"]]\n",
    "    item_dict = create_item_dict(df_r,'itemID','category')\n",
    "    interactions = create_interaction_matrix(df_r, user_col = 'userID', item_col = 'itemID', rating_col = 'rating')\n",
    "    user_dict = create_user_dict(interactions)\n",
    "    model = runMF(interactions, n_components = 30, k = K_NUM, epoch = 300)\n",
    "    show_recs(model)\n",
    "    print('='*80)\n",
    "    #check_method(interactions)\n",
    "    last_model = model"
   ]
  },
  {
   "cell_type": "code",
   "execution_count": 22,
   "metadata": {},
   "outputs": [
    {
     "name": "stdout",
     "output_type": "stream",
     "text": [
      "Segment: 0\n",
      "Precision: train 0.13, test 0.12.\n",
      "AUC: train 0.91, test 0.97.\n",
      "\n",
      "Segment: 1\n",
      "Precision: train 0.10, test 0.10.\n",
      "AUC: train 0.84, test 0.95.\n",
      "\n",
      "Segment: 2\n",
      "Precision: train 0.15, test 0.12.\n",
      "AUC: train 0.83, test 0.96.\n",
      "\n",
      "Segment: 3\n",
      "Precision: train 0.12, test 0.10.\n",
      "AUC: train 0.88, test 0.88.\n",
      "\n",
      "Segment: 4\n",
      "Precision: train 0.12, test 0.11.\n",
      "AUC: train 0.83, test 0.96.\n",
      "\n",
      "Segment: 5\n",
      "Precision: train 0.16, test 0.12.\n",
      "AUC: train 0.81, test 0.96.\n",
      "\n",
      "Segment: 6\n",
      "Precision: train 0.13, test 0.11.\n",
      "AUC: train 0.85, test 0.84.\n",
      "\n",
      "Segment: 7\n",
      "Precision: train 0.12, test 0.11.\n",
      "AUC: train 0.84, test 0.95.\n",
      "\n",
      "Segment: 8\n",
      "Precision: train 0.13, test 0.11.\n",
      "AUC: train 0.85, test 0.95.\n",
      "\n",
      "Segment: 9\n",
      "Precision: train 0.12, test 0.12.\n",
      "AUC: train 0.73, test 0.94.\n",
      "\n",
      "Segment: 10\n",
      "Precision: train 0.08, test 0.12.\n",
      "AUC: train 0.73, test 0.97.\n",
      "\n",
      "Segment: 11\n",
      "Precision: train 0.13, test 0.11.\n",
      "AUC: train 0.86, test 0.95.\n",
      "\n",
      "Segment: 12\n",
      "Precision: train 0.11, test 0.11.\n",
      "AUC: train 0.90, test 0.97.\n",
      "\n"
     ]
    }
   ],
   "source": [
    "%precision 2\n",
    "grdata = []\n",
    "for seg in set(ds['Segment']):\n",
    "    print(f'Segment: {seg}')\n",
    "    df = toratings(ds[ds['Segment']==seg], dataset)\n",
    "    df_r=df[[\"userID\",\"itemID\",\"rating\",\"category\"]]\n",
    "    item_dict = create_item_dict(df_r,'itemID','category')\n",
    "    interactions = create_interaction_matrix(df_r, user_col = 'userID', item_col = 'itemID', rating_col = 'rating')\n",
    "    ret = check_method(interactions)\n",
    "    grdata.append(ret)\n",
    "    print()"
   ]
  },
  {
   "cell_type": "code",
   "execution_count": 23,
   "metadata": {},
   "outputs": [],
   "source": [
    "df = pd.DataFrame(grdata, columns=['train_precision', 'test_precision', 'train_auc', 'test_auc'])"
   ]
  },
  {
   "cell_type": "code",
   "execution_count": 24,
   "metadata": {},
   "outputs": [
    {
     "data": {
      "image/png": "[encoded data removed]",
      "text/plain": [
       "<Figure size 640x480 with 1 Axes>"
      ]
     },
     "metadata": {},
     "output_type": "display_data"
    }
   ],
   "source": [
    "df.plot(xlabel='Segment', ylabel='Value', grid=True);"
   ]
  },
  {
   "cell_type": "code",
   "execution_count": 25,
   "metadata": {},
   "outputs": [],
   "source": [
    "pd.set_option(\"display.precision\", 2)\n",
    "df.index.name = 'Segment'"
   ]
  },
  {
   "cell_type": "code",
   "execution_count": 26,
   "metadata": {
    "scrolled": true
   },
   "outputs": [
    {
     "name": "stdout",
     "output_type": "stream",
     "text": [
      "Метрики ранжирования\n"
     ]
    },
    {
     "data": {
      "text/html": [
       "<table border=\"1\" class=\"dataframe\">\n",
       "  <thead>\n",
       "    <tr style=\"text-align: right;\">\n",
       "      <th>Segment</th>\n",
       "      <th>0</th>\n",
       "      <th>1</th>\n",
       "      <th>2</th>\n",
       "      <th>3</th>\n",
       "      <th>4</th>\n",
       "      <th>5</th>\n",
       "      <th>6</th>\n",
       "      <th>7</th>\n",
       "      <th>8</th>\n",
       "      <th>9</th>\n",
       "      <th>10</th>\n",
       "      <th>11</th>\n",
       "      <th>12</th>\n",
       "    </tr>\n",
       "  </thead>\n",
       "  <tbody>\n",
       "    <tr>\n",
       "      <th>train_precision</th>\n",
       "      <td>0.13</td>\n",
       "      <td>0.10</td>\n",
       "      <td>0.15</td>\n",
       "      <td>0.12</td>\n",
       "      <td>0.12</td>\n",
       "      <td>0.16</td>\n",
       "      <td>0.13</td>\n",
       "      <td>0.12</td>\n",
       "      <td>0.13</td>\n",
       "      <td>0.12</td>\n",
       "      <td>0.08</td>\n",
       "      <td>0.13</td>\n",
       "      <td>0.11</td>\n",
       "    </tr>\n",
       "    <tr>\n",
       "      <th>test_precision</th>\n",
       "      <td>0.12</td>\n",
       "      <td>0.10</td>\n",
       "      <td>0.12</td>\n",
       "      <td>0.10</td>\n",
       "      <td>0.11</td>\n",
       "      <td>0.12</td>\n",
       "      <td>0.11</td>\n",
       "      <td>0.11</td>\n",
       "      <td>0.11</td>\n",
       "      <td>0.12</td>\n",
       "      <td>0.12</td>\n",
       "      <td>0.11</td>\n",
       "      <td>0.11</td>\n",
       "    </tr>\n",
       "    <tr>\n",
       "      <th>train_auc</th>\n",
       "      <td>0.91</td>\n",
       "      <td>0.84</td>\n",
       "      <td>0.83</td>\n",
       "      <td>0.88</td>\n",
       "      <td>0.83</td>\n",
       "      <td>0.81</td>\n",
       "      <td>0.85</td>\n",
       "      <td>0.84</td>\n",
       "      <td>0.85</td>\n",
       "      <td>0.73</td>\n",
       "      <td>0.73</td>\n",
       "      <td>0.86</td>\n",
       "      <td>0.90</td>\n",
       "    </tr>\n",
       "    <tr>\n",
       "      <th>test_auc</th>\n",
       "      <td>0.97</td>\n",
       "      <td>0.95</td>\n",
       "      <td>0.96</td>\n",
       "      <td>0.88</td>\n",
       "      <td>0.96</td>\n",
       "      <td>0.96</td>\n",
       "      <td>0.84</td>\n",
       "      <td>0.95</td>\n",
       "      <td>0.95</td>\n",
       "      <td>0.94</td>\n",
       "      <td>0.97</td>\n",
       "      <td>0.95</td>\n",
       "      <td>0.97</td>\n",
       "    </tr>\n",
       "  </tbody>\n",
       "</table>"
      ],
      "text/plain": [
       "<IPython.core.display.HTML object>"
      ]
     },
     "metadata": {},
     "output_type": "display_data"
    },
    {
     "name": "stdout",
     "output_type": "stream",
     "text": [
      "Finish\n",
      "train_precision 0.12282416\n",
      "test_precision 0.11228744\n",
      "train_auc 0.8359999\n",
      "test_auc 0.94321513\n"
     ]
    }
   ],
   "source": [
    "from user_func import prdf\n",
    "print('Метрики ранжирования')\n",
    "prdf(df.T)\n",
    "print('Finish')\n",
    "for col in df.columns:\n",
    "    print(col,df[col].mean())"
   ]
  },
  {
   "cell_type": "code",
   "execution_count": 27,
   "metadata": {},
   "outputs": [
    {
     "name": "stdout",
     "output_type": "stream",
     "text": [
      "0:50\n"
     ]
    }
   ],
   "source": [
    "seconds = int(time.time() - start_time)\n",
    "print(\"%d:%02d\" % (seconds // 60, seconds - 60 * (seconds // 60),))"
   ]
  },
  {
   "cell_type": "code",
   "execution_count": null,
   "metadata": {},
   "outputs": [],
   "source": []
  }
 ],
 "metadata": {
  "kernelspec": {
   "display_name": "Python 3 (ipykernel)",
   "language": "python",
   "name": "python3"
  },
  "language_info": {
   "codemirror_mode": {
    "name": "ipython",
    "version": 3
   },
   "file_extension": ".py",
   "mimetype": "text/x-python",
   "name": "python",
   "nbconvert_exporter": "python",
   "pygments_lexer": "ipython3",
   "version": "3.9.16"
  }
 },
 "nbformat": 4,
 "nbformat_minor": 4
}
