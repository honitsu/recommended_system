{
 "cells": [
  {
   "cell_type": "code",
   "execution_count": 1,
   "metadata": {},
   "outputs": [],
   "source": [
    "# svd-recommender.ipynb"
   ]
  },
  {
   "cell_type": "markdown",
   "metadata": {},
   "source": [
    "# <font color=\"navy\">Рассмотрим модель SVD (Singular Value Decomposition)"
   ]
  },
  {
   "cell_type": "markdown",
   "metadata": {},
   "source": [
    "<font color=\"darkgreen\">Работает с python 3.11 и 3.9"
   ]
  },
  {
   "cell_type": "code",
   "execution_count": 4,
   "metadata": {},
   "outputs": [],
   "source": [
    "import sys"
   ]
  },
  {
   "cell_type": "code",
   "execution_count": 5,
   "metadata": {
    "_cell_guid": "b1076dfc-b9ad-4769-8c92-a6c4dae69d19",
    "_uuid": "8f2839f25d086af736a60e9eeb907d3b93b6e0e5"
   },
   "outputs": [],
   "source": [
    "import numpy as np\n",
    "import pandas as pd\n",
    "import time\n",
    "import random\n",
    "import warnings\n",
    "from collections import defaultdict\n",
    "from surprise import SVD, Reader, Dataset, accuracy #, KNNBasic, NMF, , , accuracy\n",
    "from surprise.model_selection import train_test_split as sp_train_test_split\n",
    "from tqdm.notebook import tqdm\n",
    "#warnings.simplefilter(\"ignore\")\n",
    "from IPython.display import Markdown, display\n",
    "#import os\n",
    "#os.chdir('..')"
   ]
  },
  {
   "cell_type": "code",
   "execution_count": 6,
   "metadata": {},
   "outputs": [
    {
     "name": "stdout",
     "output_type": "stream",
     "text": [
      "System version: 3.11.9 | packaged by Anaconda, Inc. | (main, Apr 19 2024, 16:40:41) [MSC v.1916 64 bit (AMD64)]\n",
      "Pandas version: 2.2.1\n",
      "Numpy version:  1.26.4\n"
     ]
    }
   ],
   "source": [
    "print(f'System version: {sys.version}')\n",
    "print(f'Pandas version: {pd.__version__}')\n",
    "print(f'Numpy version:  {np.__version__}')"
   ]
  },
  {
   "cell_type": "code",
   "execution_count": 7,
   "metadata": {},
   "outputs": [],
   "source": [
    "from settings import *\n",
    "DEBUG = False"
   ]
  },
  {
   "cell_type": "code",
   "execution_count": 8,
   "metadata": {},
   "outputs": [],
   "source": [
    "start_time = time.time()"
   ]
  },
  {
   "cell_type": "code",
   "execution_count": 9,
   "metadata": {},
   "outputs": [],
   "source": [
    "pd.options.display.float_format = \"{:,.2f}\".format\n",
    "warnings.simplefilter(\"ignore\")\n",
    "%matplotlib inline"
   ]
  },
  {
   "cell_type": "markdown",
   "metadata": {},
   "source": [
    "## Создание рекомендательных систем с использованием библиотеки Surprise"
   ]
  },
  {
   "cell_type": "code",
   "execution_count": 11,
   "metadata": {},
   "outputs": [],
   "source": [
    "def get_top_n(predictions, n=10):\n",
    "    \"\"\"Return the top-N recommendation for each user from a set of predictions.\n",
    "\n",
    "    Args:\n",
    "        predictions(list of Prediction objects): The list of predictions, as\n",
    "            returned by the test method of an algorithm.\n",
    "        n(int): The number of recommendation to output for each user. Default\n",
    "            is 10.\n",
    "\n",
    "    Returns:\n",
    "    A dict where keys are user (raw) ids and values are lists of tuples:\n",
    "        [(raw item id, rating estimation), ...] of size n.\n",
    "    \"\"\"\n",
    "\n",
    "    # First map the predictions to each user.\n",
    "    top_n = defaultdict(list)\n",
    "    for uid, iid, true_r, est, _ in predictions:\n",
    "        top_n[uid].append((iid, est))\n",
    "\n",
    "    # Then sort the predictions for each user and retrieve the k highest ones.\n",
    "    for uid, user_ratings in top_n.items():\n",
    "        user_ratings.sort(key=lambda x: x[1], reverse=True)\n",
    "        top_n[uid] = user_ratings[:n]\n",
    "\n",
    "    return top_n"
   ]
  },
  {
   "cell_type": "code",
   "execution_count": 12,
   "metadata": {},
   "outputs": [],
   "source": [
    "def toratings(ds):\n",
    "    \"\"\"\n",
    "    Преобразует таблицу к строкам: user_id, category_name, rating\n",
    "    \"\"\"\n",
    "    cols = np.sort(dataset[SPLIT_CATEGORY].unique()).tolist() # Получаем значения всех категорий\n",
    "    ds = ds[cols]\n",
    "    #ds = ds.loc[:, (ds != 0).any(axis=0)] # Удаляем столбцы с одними нулями\n",
    "    ds.reset_index(inplace=True) # Преобразуем индекс в столбец\n",
    "\n",
    "    ratings = pd.DataFrame()\n",
    "    #cols = list(ds.columns)\n",
    "    if 'user_id' in cols:\n",
    "        cols.remove('user_id')\n",
    "    for col in cols:\n",
    "        if col not in list(ds.columns):\n",
    "            cols.remove(col)\n",
    "    for col in cols:\n",
    "        dtmp = ds[ds[col]!=0][['user_id',col]].rename(columns={col: 'rating'})\n",
    "        dtmp.insert(1,'category',col)\n",
    "        ratings=pd.concat([ratings,dtmp], ignore_index = True)\n",
    "    #ratings['rating']=(ratings['rating']-ratings['rating'].mean())/ratings['rating'].std()\n",
    "    return ratings"
   ]
  },
  {
   "cell_type": "code",
   "execution_count": 13,
   "metadata": {},
   "outputs": [],
   "source": [
    "dataset = pd.read_pickle(ds_flt_file) # Полные данные после фильтрации\n",
    "ds = pd.read_pickle(showcase_seg_file) # Сегментированная витрина"
   ]
  },
  {
   "cell_type": "code",
   "execution_count": 14,
   "metadata": {},
   "outputs": [
    {
     "name": "stdout",
     "output_type": "stream",
     "text": [
      "Сегмент: 0\n",
      "\n",
      "Пользователь: 538975908\n",
      "Рекомендовано: ['tv', 'subwoofer', 'water_heater', 'microphone', 'cooler']\n",
      "Куплено: {'notebook', 'desktop'}\n",
      "\n",
      "Пользователь: 568860082\n",
      "Рекомендовано: ['notebook', 'tv', 'water_heater', 'cooler', 'microphone']\n",
      "Куплено: {'desktop', 'subwoofer'}\n",
      "\n",
      "Пользователь: 560457044\n",
      "Рекомендовано: ['tv', 'notebook', 'subwoofer', 'microphone', 'cooler']\n",
      "Куплено: {'water_heater'}\n",
      "\n",
      "Пользователь: 568223540\n",
      "Рекомендовано: ['tv', 'notebook', 'subwoofer', 'cooler', 'microphone']\n",
      "Куплено: {'water_heater'}\n",
      "\n",
      "Пользователь: 514576536\n",
      "Рекомендовано: ['tv', 'notebook', 'water_heater', 'cooler', 'microphone']\n",
      "Куплено: {'subwoofer'}\n",
      "\n",
      "Пользователь: 514661933\n",
      "Рекомендовано: ['tv', 'notebook', 'subwoofer', 'water_heater', 'microphone']\n",
      "Куплено: {'microwave', 'kettle'}\n",
      "\n",
      "Пользователь: 518683175\n",
      "Рекомендовано: ['tv', 'subwoofer', 'water_heater', 'cooler', 'microphone']\n",
      "Куплено: {'juicer', 'notebook'}\n",
      "\n",
      "Пользователь: 522416106\n",
      "Рекомендовано: ['notebook', 'subwoofer', 'water_heater', 'microphone', 'cooler']\n",
      "Куплено: {'carriage', 'tv'}\n",
      "\n",
      "Пользователь: 562567439\n",
      "Рекомендовано: ['notebook', 'subwoofer', 'microphone', 'cooler', 'shirt']\n",
      "Куплено: {'water_heater', 'tv', 'faucet'}\n",
      "\n",
      "Пользователь: 553382262\n",
      "Рекомендовано: ['notebook', 'tv', 'subwoofer', 'water_heater', 'cooler']\n",
      "Куплено: {'monitor', 'microwave'}\n"
     ]
    },
    {
     "data": {
      "text/markdown": [
       "---"
      ],
      "text/plain": [
       "<IPython.core.display.Markdown object>"
      ]
     },
     "metadata": {},
     "output_type": "display_data"
    },
    {
     "name": "stdout",
     "output_type": "stream",
     "text": [
      "Сегмент: 1\n",
      "\n",
      "Пользователь: 565641615\n",
      "Рекомендовано: ['tv', 'shoes', 'welding', 'cabinet', 'ebooks']\n",
      "Куплено: {'iron', 'ironing_board'}\n",
      "\n",
      "Пользователь: 558339481\n",
      "Рекомендовано: ['tv', 'shoes', 'welding', 'cabinet', 'ebooks']\n",
      "Куплено: {'desktop'}\n",
      "\n",
      "Пользователь: 564007219\n",
      "Рекомендовано: ['tv', 'welding', 'cabinet', 'ebooks', 'fan']\n",
      "Куплено: {'shoes', 'kettle'}\n",
      "\n",
      "Пользователь: 545873773\n",
      "Рекомендовано: ['tv', 'shoes', 'welding', 'cabinet', 'ebooks']\n",
      "Куплено: {'blender', 'vacuum'}\n",
      "\n",
      "Пользователь: 524973010\n",
      "Рекомендовано: ['tv', 'shoes', 'welding', 'cabinet', 'ebooks']\n",
      "Куплено: {'blender', 'coffee_grinder'}\n",
      "\n",
      "Пользователь: 514565104\n",
      "Рекомендовано: ['tv', 'shoes', 'welding', 'cabinet', 'ebooks']\n",
      "Куплено: {'headphone', 'vacuum'}\n",
      "\n",
      "Пользователь: 533187804\n",
      "Рекомендовано: ['tv', 'welding', 'cabinet', 'ebooks', 'fan']\n",
      "Куплено: {'bed', 'shoes'}\n",
      "\n",
      "Пользователь: 538139256\n",
      "Рекомендовано: ['tv', 'shoes', 'welding', 'cabinet', 'ebooks']\n",
      "Куплено: {'blender'}\n",
      "\n",
      "Пользователь: 570107604\n",
      "Рекомендовано: ['tv', 'welding', 'shoes', 'cabinet', 'ebooks']\n",
      "Куплено: {'kettle'}\n",
      "\n",
      "Пользователь: 542488117\n",
      "Рекомендовано: ['tv', 'welding', 'cabinet', 'ebooks', 'fan']\n",
      "Куплено: {'shoes'}\n"
     ]
    },
    {
     "data": {
      "text/markdown": [
       "---"
      ],
      "text/plain": [
       "<IPython.core.display.Markdown object>"
      ]
     },
     "metadata": {},
     "output_type": "display_data"
    },
    {
     "name": "stdout",
     "output_type": "stream",
     "text": [
      "Сегмент: 2\n",
      "\n",
      "Пользователь: 570146618\n",
      "Рекомендовано: ['monitor', 'desktop', 'headphone', 'videocards', 'cartrige']\n",
      "Куплено: {'power_supply', 'memory', 'hdd', 'cpu', 'motherboard'}\n",
      "\n",
      "Пользователь: 512587418\n",
      "Рекомендовано: ['monitor', 'headphone', 'desktop', 'videocards', 'cartrige']\n",
      "Куплено: {'cpu', 'memory', 'cooler'}\n",
      "\n",
      "Пользователь: 533057339\n",
      "Рекомендовано: ['monitor', 'desktop', 'videocards', 'trainer', 'cartrige']\n",
      "Куплено: {'headphone', 'tv', 'washer'}\n",
      "\n",
      "Пользователь: 553171815\n",
      "Рекомендовано: ['headphone', 'desktop', 'trainer', 'cartrige']\n",
      "Куплено: {'monitor', 'memory', 'hdd', 'videocards'}\n",
      "\n",
      "Пользователь: 552265052\n",
      "Рекомендовано: ['monitor', 'headphone', 'cartrige', 'trainer', 'massager']\n",
      "Куплено: {'cpu', 'desktop', 'videocards'}\n",
      "\n",
      "Пользователь: 530857976\n",
      "Рекомендовано: ['monitor', 'headphone', 'desktop', 'videocards', 'cartrige']\n",
      "Куплено: {'mouse', 'keyboard'}\n",
      "\n",
      "Пользователь: 512513019\n",
      "Рекомендовано: ['monitor', 'desktop', 'videocards', 'cartrige', 'trainer']\n",
      "Куплено: {'headphone', 'washer'}\n",
      "\n",
      "Пользователь: 569689612\n",
      "Рекомендовано: ['monitor', 'headphone', 'videocards', 'trainer']\n",
      "Куплено: {'desktop', 'washer'}\n",
      "\n",
      "Пользователь: 519440228\n",
      "Рекомендовано: ['monitor', 'desktop', 'videocards', 'cartrige', 'trainer']\n",
      "Куплено: {'headphone', 'hdd'}\n",
      "\n",
      "Пользователь: 537605937\n",
      "Рекомендовано: ['monitor', 'headphone', 'desktop', 'videocards', 'trainer']\n",
      "Куплено: {'memory', 'hdd'}\n"
     ]
    },
    {
     "data": {
      "text/markdown": [
       "---"
      ],
      "text/plain": [
       "<IPython.core.display.Markdown object>"
      ]
     },
     "metadata": {},
     "output_type": "display_data"
    },
    {
     "name": "stdout",
     "output_type": "stream",
     "text": [
      "Сегмент: 3\n",
      "\n",
      "Пользователь: 564450775\n",
      "Рекомендовано: ['headphone', 'clocks', 'microwave', 'notebook', 'bag']\n",
      "Куплено: {'tv'}\n",
      "\n",
      "Пользователь: 522214903\n",
      "Рекомендовано: ['headphone', 'microwave', 'notebook', 'bag', 'skates']\n",
      "Куплено: {'clocks'}\n",
      "\n",
      "Пользователь: 559498287\n",
      "Рекомендовано: ['headphone', 'clocks', 'microwave', 'bag', 'skates']\n",
      "Куплено: {'notebook'}\n",
      "\n",
      "Пользователь: 554568653\n",
      "Рекомендовано: ['headphone', 'microwave', 'notebook', 'bag', 'skates']\n",
      "Куплено: {'clocks', 'tv'}\n",
      "\n",
      "Пользователь: 529474817\n",
      "Рекомендовано: ['microwave', 'notebook', 'bag', 'skates', 'tv']\n",
      "Куплено: {'headphone', 'clocks'}\n",
      "\n",
      "Пользователь: 542526840\n",
      "Рекомендовано: ['clocks', 'microwave', 'notebook', 'bag', 'skates']\n",
      "Куплено: {'headphone'}\n",
      "\n",
      "Пользователь: 512388032\n",
      "Рекомендовано: ['headphone', 'clocks', 'microwave', 'notebook', 'bag']\n",
      "Куплено: {'tablet'}\n",
      "\n",
      "Пользователь: 569185080\n",
      "Рекомендовано: ['headphone', 'clocks', 'microwave', 'notebook', 'bag']\n",
      "Куплено: {'tv'}\n",
      "\n",
      "Пользователь: 513229069\n",
      "Рекомендовано: ['clocks', 'microwave', 'notebook', 'bag', 'skates']\n",
      "Куплено: {'headphone'}\n",
      "\n",
      "Пользователь: 531981355\n",
      "Рекомендовано: ['headphone', 'clocks', 'microwave', 'notebook', 'bag']\n",
      "Куплено: {'tv'}\n"
     ]
    },
    {
     "data": {
      "text/markdown": [
       "---"
      ],
      "text/plain": [
       "<IPython.core.display.Markdown object>"
      ]
     },
     "metadata": {},
     "output_type": "display_data"
    },
    {
     "name": "stdout",
     "output_type": "stream",
     "text": [
      "Сегмент: 4\n",
      "\n",
      "Пользователь: 522852807\n",
      "Рекомендовано: ['clocks', 'desktop', 'hair_cutter', 'ironing_board', 'grill']\n",
      "Куплено: {'headphone', 'kettle', 'meat_grinder'}\n",
      "\n",
      "Пользователь: 523778499\n",
      "Рекомендовано: ['clocks', 'desktop', 'hair_cutter', 'ironing_board', 'grill']\n",
      "Куплено: {'toster', 'microwave'}\n",
      "\n",
      "Пользователь: 551492116\n",
      "Рекомендовано: ['clocks', 'desktop', 'hair_cutter', 'ironing_board', 'grill']\n",
      "Куплено: {'hob', 'oven'}\n",
      "\n",
      "Пользователь: 513334938\n",
      "Рекомендовано: ['clocks', 'desktop', 'hair_cutter', 'ironing_board', 'grill']\n",
      "Куплено: {'juicer', 'blender', 'refrigerators'}\n",
      "\n",
      "Пользователь: 539620904\n",
      "Рекомендовано: ['clocks', 'desktop', 'hair_cutter', 'ironing_board', 'grill']\n",
      "Куплено: {'toster'}\n",
      "\n",
      "Пользователь: 568396333\n",
      "Рекомендовано: ['clocks', 'desktop', 'hair_cutter', 'grill', 'headphone']\n",
      "Куплено: {'vacuum', 'ironing_board'}\n",
      "\n",
      "Пользователь: 529498195\n",
      "Рекомендовано: ['clocks', 'desktop', 'hair_cutter', 'ironing_board', 'grill']\n",
      "Куплено: {'iron', 'swing', 'vacuum'}\n",
      "\n",
      "Пользователь: 563109805\n",
      "Рекомендовано: ['clocks', 'desktop', 'hair_cutter', 'grill', 'headphone']\n",
      "Куплено: {'blender', 'ironing_board', 'keds'}\n",
      "\n",
      "Пользователь: 521399226\n",
      "Рекомендовано: ['clocks', 'desktop', 'hair_cutter', 'ironing_board', 'grill']\n",
      "Куплено: {'hood'}\n",
      "\n",
      "Пользователь: 512968875\n",
      "Рекомендовано: ['clocks', 'desktop', 'hair_cutter', 'ironing_board', 'grill']\n",
      "Куплено: {'umbrella', 'hob'}\n"
     ]
    },
    {
     "data": {
      "text/markdown": [
       "---"
      ],
      "text/plain": [
       "<IPython.core.display.Markdown object>"
      ]
     },
     "metadata": {},
     "output_type": "display_data"
    },
    {
     "name": "stdout",
     "output_type": "stream",
     "text": [
      "Сегмент: 5\n",
      "\n",
      "Пользователь: 515050403\n",
      "Рекомендовано: ['refrigerators', 'washer', 'air_conditioner', 'tablet', 'pump']\n",
      "Куплено: {'dishwasher', 'hob'}\n",
      "\n",
      "Пользователь: 560118804\n",
      "Рекомендовано: ['refrigerators', 'washer', 'tablet', 'pump', 'tv']\n",
      "Куплено: {'air_conditioner', 'vacuum'}\n",
      "\n",
      "Пользователь: 514617524\n",
      "Рекомендовано: ['refrigerators', 'washer', 'air_conditioner', 'pump', 'tv']\n",
      "Куплено: {'oven', 'clocks', 'tablet', 'notebook', 'meat_grinder'}\n",
      "\n",
      "Пользователь: 552158795\n",
      "Рекомендовано: ['air_conditioner', 'tablet', 'pump', 'tv', 'headphone']\n",
      "Куплено: {'washer', 'dishwasher', 'refrigerators', 'oven'}\n",
      "\n",
      "Пользователь: 562636112\n",
      "Рекомендовано: ['refrigerators', 'washer', 'air_conditioner', 'pump', 'tv']\n",
      "Куплено: {'tablet', 'oven'}\n",
      "\n",
      "Пользователь: 517631456\n",
      "Рекомендовано: ['refrigerators', 'washer', 'air_conditioner', 'tablet', 'pump']\n",
      "Куплено: {'dishwasher', 'water_heater', 'tv'}\n",
      "\n",
      "Пользователь: 554545625\n",
      "Рекомендовано: ['refrigerators', 'washer', 'air_conditioner', 'tablet', 'pump']\n",
      "Куплено: {'oven', 'subwoofer'}\n",
      "\n",
      "Пользователь: 550963593\n",
      "Рекомендовано: ['refrigerators', 'washer', 'air_conditioner', 'tablet', 'tv']\n",
      "Куплено: {'dishwasher', 'hob', 'oven'}\n",
      "\n",
      "Пользователь: 544093216\n",
      "Рекомендовано: ['refrigerators', 'washer', 'tablet', 'tv', 'pump']\n",
      "Куплено: {'air_conditioner', 'generator'}\n",
      "\n",
      "Пользователь: 549379397\n",
      "Рекомендовано: ['refrigerators', 'washer', 'air_conditioner', 'tablet', 'pump']\n",
      "Куплено: {'water_heater', 'kettle', 'oven'}\n"
     ]
    },
    {
     "data": {
      "text/markdown": [
       "---"
      ],
      "text/plain": [
       "<IPython.core.display.Markdown object>"
      ]
     },
     "metadata": {},
     "output_type": "display_data"
    },
    {
     "name": "stdout",
     "output_type": "stream",
     "text": [
      "Сегмент: 6\n",
      "\n",
      "Пользователь: 547796248\n",
      "Рекомендовано: ['chair', 'sewing_machine', 'refrigerators', 'grill', 'diapers']\n",
      "Куплено: {'washer'}\n",
      "\n",
      "Пользователь: 512758764\n",
      "Рекомендовано: ['chair', 'sewing_machine', 'refrigerators', 'grill', 'kettle']\n",
      "Куплено: {'washer'}\n",
      "\n",
      "Пользователь: 513317307\n",
      "Рекомендовано: ['washer', 'chair', 'sewing_machine', 'refrigerators', 'grill']\n",
      "Куплено: {'vacuum'}\n",
      "\n",
      "Пользователь: 529719986\n",
      "Рекомендовано: ['chair', 'sewing_machine', 'refrigerators', 'grill']\n",
      "Куплено: {'vacuum', 'washer'}\n",
      "\n",
      "Пользователь: 526011487\n",
      "Рекомендовано: ['chair', 'sewing_machine', 'refrigerators', 'grill', 'kettle']\n",
      "Куплено: {'washer', 'oven'}\n",
      "\n",
      "Пользователь: 513288372\n",
      "Рекомендовано: ['chair', 'sewing_machine', 'refrigerators', 'grill', 'diapers']\n",
      "Куплено: {'tv', 'washer'}\n",
      "\n",
      "Пользователь: 570089940\n",
      "Рекомендовано: ['washer', 'chair', 'refrigerators', 'grill', 'kettle']\n",
      "Куплено: {'sewing_machine'}\n",
      "\n",
      "Пользователь: 519816173\n",
      "Рекомендовано: ['washer', 'chair', 'sewing_machine', 'refrigerators', 'grill']\n",
      "Куплено: {'vacuum'}\n",
      "\n",
      "Пользователь: 537215451\n",
      "Рекомендовано: ['washer', 'chair', 'sewing_machine', 'refrigerators', 'grill']\n",
      "Куплено: {'vacuum'}\n",
      "\n",
      "Пользователь: 531919769\n",
      "Рекомендовано: ['washer', 'chair', 'sewing_machine', 'refrigerators', 'grill']\n",
      "Куплено: {'iron'}\n"
     ]
    },
    {
     "data": {
      "text/markdown": [
       "---"
      ],
      "text/plain": [
       "<IPython.core.display.Markdown object>"
      ]
     },
     "metadata": {},
     "output_type": "display_data"
    },
    {
     "name": "stdout",
     "output_type": "stream",
     "text": [
      "Сегмент: 7\n",
      "\n",
      "Пользователь: 555561884\n",
      "Рекомендовано: ['tablet', 'piano', 'alarm', 'tv', 'clocks']\n",
      "Куплено: {'player', 'subwoofer'}\n",
      "\n",
      "Пользователь: 523795621\n",
      "Рекомендовано: ['tablet', 'alarm', 'piano', 'tv', 'drill']\n",
      "Куплено: {'clocks', 'subwoofer'}\n",
      "\n",
      "Пользователь: 512536746\n",
      "Рекомендовано: ['tablet', 'piano', 'alarm', 'clocks', 'videoregister']\n",
      "Куплено: {'drill', 'tv'}\n",
      "\n",
      "Пользователь: 523757009\n",
      "Рекомендовано: ['tablet', 'piano', 'alarm', 'clocks', 'videoregister']\n",
      "Куплено: {'headphone', 'drill', 'tv'}\n",
      "\n",
      "Пользователь: 515485934\n",
      "Рекомендовано: ['tablet', 'piano', 'alarm', 'tv', 'clocks']\n",
      "Куплено: {'drill', 'light'}\n",
      "\n",
      "Пользователь: 514883988\n",
      "Рекомендовано: ['tablet', 'piano', 'alarm', 'tv', 'clocks']\n",
      "Куплено: {'diapers'}\n",
      "\n",
      "Пользователь: 563664682\n",
      "Рекомендовано: ['tablet', 'piano', 'alarm', 'tv', 'clocks']\n",
      "Куплено: {'diapers', 'telephone'}\n",
      "\n",
      "Пользователь: 564607170\n",
      "Рекомендовано: ['tablet', 'piano', 'alarm', 'tv', 'videoregister']\n",
      "Куплено: {'clocks', 'saw'}\n",
      "\n",
      "Пользователь: 552302246\n",
      "Рекомендовано: ['tablet', 'alarm', 'piano', 'tv', 'clocks']\n",
      "Куплено: {'player', 'notebook', 'subwoofer'}\n",
      "\n",
      "Пользователь: 568787976\n",
      "Рекомендовано: ['tablet', 'piano', 'alarm', 'tv', 'clocks']\n",
      "Куплено: {'drill'}\n"
     ]
    },
    {
     "data": {
      "text/markdown": [
       "---"
      ],
      "text/plain": [
       "<IPython.core.display.Markdown object>"
      ]
     },
     "metadata": {},
     "output_type": "display_data"
    },
    {
     "name": "stdout",
     "output_type": "stream",
     "text": [
      "Сегмент: 8\n",
      "\n",
      "Пользователь: 513378940\n",
      "Рекомендовано: ['washer', 'printer', 'videoregister', 'tv', 'refrigerators']\n",
      "Куплено: {'iron', 'kettle'}\n",
      "\n",
      "Пользователь: 526101867\n",
      "Рекомендовано: ['washer', 'printer', 'videoregister', 'tv', 'refrigerators']\n",
      "Куплено: {'scales'}\n",
      "\n",
      "Пользователь: 563592323\n",
      "Рекомендовано: ['washer', 'printer', 'videoregister', 'tv', 'refrigerators']\n",
      "Куплено: {'bicycle', 'notebook'}\n",
      "\n",
      "Пользователь: 561105034\n",
      "Рекомендовано: ['washer', 'videoregister', 'tv', 'refrigerators']\n",
      "Куплено: {'printer', 'notebook'}\n",
      "\n",
      "Пользователь: 539327927\n",
      "Рекомендовано: ['washer', 'printer', 'videoregister', 'tv', 'refrigerators']\n",
      "Куплено: {'water_heater', 'vacuum', 'iron'}\n",
      "\n",
      "Пользователь: 536003033\n",
      "Рекомендовано: ['washer', 'printer', 'videoregister', 'tv', 'refrigerators']\n",
      "Куплено: {'juicer', 'mixer', 'scales'}\n",
      "\n",
      "Пользователь: 544163032\n",
      "Рекомендовано: ['washer', 'printer', 'videoregister', 'tv', 'refrigerators']\n",
      "Куплено: {'iron', 'kettle'}\n",
      "\n",
      "Пользователь: 525484165\n",
      "Рекомендовано: ['washer', 'printer', 'videoregister', 'notebook']\n",
      "Куплено: {'saw', 'tv', 'refrigerators'}\n",
      "\n",
      "Пользователь: 558397001\n",
      "Рекомендовано: ['washer', 'videoregister', 'tv', 'refrigerators', 'notebook']\n",
      "Куплено: {'printer'}\n",
      "\n",
      "Пользователь: 543733099\n",
      "Рекомендовано: ['washer', 'videoregister', 'tv', 'refrigerators', 'notebook']\n",
      "Куплено: {'printer'}\n"
     ]
    },
    {
     "data": {
      "text/markdown": [
       "---"
      ],
      "text/plain": [
       "<IPython.core.display.Markdown object>"
      ]
     },
     "metadata": {},
     "output_type": "display_data"
    },
    {
     "name": "stdout",
     "output_type": "stream",
     "text": [
      "Сегмент: 9\n",
      "\n",
      "Пользователь: 526903079\n",
      "Рекомендовано: ['telephone', 'tablet', 'keds', 'tv', 'monitor']\n",
      "Куплено: {'clocks', 'player', 'headphone', 'washer'}\n",
      "\n",
      "Пользователь: 559010821\n",
      "Рекомендовано: ['telephone', 'headphone', 'player', 'clocks', 'tablet']\n",
      "Куплено: {'notebook', 'refrigerators'}\n",
      "\n",
      "Пользователь: 563667131\n",
      "Рекомендовано: ['telephone', 'headphone', 'player', 'clocks']\n",
      "Куплено: {'tablet', 'tv', 'washer'}\n",
      "\n",
      "Пользователь: 548064303\n",
      "Рекомендовано: ['headphone', 'player', 'clocks', 'tablet', 'keds']\n",
      "Куплено: {'telephone'}\n",
      "\n",
      "Пользователь: 552477646\n",
      "Рекомендовано: ['telephone', 'player', 'clocks', 'tablet', 'tv']\n",
      "Куплено: {'headphone', 'notebook', 'keds'}\n",
      "\n",
      "Пользователь: 565626042\n",
      "Рекомендовано: ['telephone', 'player', 'clocks', 'tablet']\n",
      "Куплено: {'iron', 'headphone', 'keds'}\n",
      "\n",
      "Пользователь: 522492908\n",
      "Рекомендовано: ['telephone', 'player', 'clocks', 'tablet', 'keds']\n",
      "Куплено: {'hair_cutter', 'headphone'}\n",
      "\n",
      "Пользователь: 556208215\n",
      "Рекомендовано: ['headphone', 'telephone', 'player', 'clocks', 'tablet']\n",
      "Куплено: {'meat_grinder'}\n",
      "\n",
      "Пользователь: 555867282\n",
      "Рекомендовано: ['player', 'keds', 'tv', 'blanket', 'monitor']\n",
      "Куплено: {'tablet', 'headphone', 'clocks', 'telephone'}\n",
      "\n",
      "Пользователь: 530833768\n",
      "Рекомендовано: ['telephone', 'player', 'clocks', 'tablet']\n",
      "Куплено: {'headphone', 'keds'}\n"
     ]
    },
    {
     "data": {
      "text/markdown": [
       "---"
      ],
      "text/plain": [
       "<IPython.core.display.Markdown object>"
      ]
     },
     "metadata": {},
     "output_type": "display_data"
    },
    {
     "name": "stdout",
     "output_type": "stream",
     "text": [
      "Сегмент: 10\n",
      "\n",
      "Пользователь: 523397615\n",
      "Рекомендовано: ['headphone', 'vacuum', 'tablet', 'notebook', 'coffee_machine']\n",
      "Куплено: {'hood', 'air_heater'}\n",
      "\n",
      "Пользователь: 562855801\n",
      "Рекомендовано: ['headphone', 'vacuum', 'tablet', 'notebook', 'coffee_machine']\n",
      "Куплено: {'clocks', 'sewing_machine'}\n",
      "\n",
      "Пользователь: 514056467\n",
      "Рекомендовано: ['headphone', 'vacuum', 'tablet', 'tv', 'blender']\n",
      "Куплено: {'coffee_machine', 'notebook', 'washer'}\n",
      "\n",
      "Пользователь: 517241303\n",
      "Рекомендовано: ['headphone', 'vacuum', 'tablet', 'notebook', 'coffee_machine']\n",
      "Куплено: {'blender', 'drill'}\n",
      "\n",
      "Пользователь: 562459984\n",
      "Рекомендовано: ['headphone', 'tablet', 'notebook', 'coffee_machine', 'tv']\n",
      "Куплено: {'water_heater', 'vacuum', 'diapers'}\n",
      "\n",
      "Пользователь: 514004396\n",
      "Рекомендовано: ['headphone', 'tablet', 'notebook', 'tv', 'blender']\n",
      "Куплено: {'chair', 'coffee_machine', 'vacuum', 'table'}\n",
      "\n",
      "Пользователь: 516319405\n",
      "Рекомендовано: ['vacuum', 'tablet', 'notebook', 'coffee_machine', 'blender']\n",
      "Куплено: {'mouse', 'headphone', 'player'}\n",
      "\n",
      "Пользователь: 557880179\n",
      "Рекомендовано: ['headphone', 'vacuum', 'tablet', 'coffee_machine', 'blender']\n",
      "Куплено: {'notebook', 'scales', 'oven'}\n",
      "\n",
      "Пользователь: 514422255\n",
      "Рекомендовано: ['headphone', 'vacuum', 'tablet', 'notebook', 'coffee_machine']\n",
      "Куплено: {'shoes', 'oven'}\n",
      "\n",
      "Пользователь: 519138320\n",
      "Рекомендовано: ['headphone', 'vacuum', 'tablet', 'notebook', 'coffee_machine']\n",
      "Куплено: {'hood', 'drill'}\n"
     ]
    },
    {
     "data": {
      "text/markdown": [
       "---"
      ],
      "text/plain": [
       "<IPython.core.display.Markdown object>"
      ]
     },
     "metadata": {},
     "output_type": "display_data"
    },
    {
     "name": "stdout",
     "output_type": "stream",
     "text": [
      "Сегмент: 11\n",
      "\n",
      "Пользователь: 544713947\n",
      "Рекомендовано: ['tv', 'clocks', 'notebook', 'headphone', 'alarm']\n",
      "Куплено: {'kettle', 'telephone'}\n",
      "\n",
      "Пользователь: 513628523\n",
      "Рекомендовано: ['tv', 'notebook', 'clocks', 'headphone', 'alarm']\n",
      "Куплено: {'bag', 'keds'}\n",
      "\n",
      "Пользователь: 522728870\n",
      "Рекомендовано: ['tv', 'clocks', 'notebook', 'headphone', 'alarm']\n",
      "Куплено: {'scales', 'meat_grinder'}\n",
      "\n",
      "Пользователь: 516026778\n",
      "Рекомендовано: ['clocks', 'notebook', 'headphone', 'alarm']\n",
      "Куплено: {'acoustic', 'tv'}\n",
      "\n",
      "Пользователь: 556476444\n",
      "Рекомендовано: ['tv', 'notebook', 'alarm']\n",
      "Куплено: {'acoustic', 'headphone', 'clocks'}\n",
      "\n",
      "Пользователь: 555844630\n",
      "Рекомендовано: ['tv', 'notebook', 'clocks', 'headphone', 'acoustic']\n",
      "Куплено: {'alarm', 'videoregister'}\n",
      "\n",
      "Пользователь: 517690870\n",
      "Рекомендовано: ['tv', 'clocks', 'notebook', 'headphone', 'alarm']\n",
      "Куплено: {'videoregister', 'desktop'}\n",
      "\n",
      "Пользователь: 553490513\n",
      "Рекомендовано: ['tv', 'clocks', 'notebook', 'headphone', 'acoustic']\n",
      "Куплено: {'wallet', 'alarm'}\n",
      "\n",
      "Пользователь: 550424055\n",
      "Рекомендовано: ['tv', 'clocks', 'alarm', 'washer', 'video']\n",
      "Куплено: {'acoustic', 'headphone', 'notebook'}\n",
      "\n",
      "Пользователь: 517496549\n",
      "Рекомендовано: ['tv', 'notebook', 'clocks', 'headphone', 'alarm']\n",
      "Куплено: {'bag'}\n"
     ]
    },
    {
     "data": {
      "text/markdown": [
       "---"
      ],
      "text/plain": [
       "<IPython.core.display.Markdown object>"
      ]
     },
     "metadata": {},
     "output_type": "display_data"
    },
    {
     "name": "stdout",
     "output_type": "stream",
     "text": [
      "Сегмент: 12\n",
      "\n",
      "Пользователь: 536032671\n",
      "Рекомендовано: ['headphone', 'clocks', 'saw', 'microwave', 'carriage']\n",
      "Куплено: {'bicycle'}\n",
      "\n",
      "Пользователь: 516093556\n",
      "Рекомендовано: ['headphone', 'clocks', 'saw', 'microwave', 'toys']\n",
      "Куплено: {'carriage', 'chair'}\n",
      "\n",
      "Пользователь: 512393742\n",
      "Рекомендовано: ['headphone', 'clocks', 'saw', 'microwave', 'toys']\n",
      "Куплено: {'carriage'}\n",
      "\n",
      "Пользователь: 539748223\n",
      "Рекомендовано: ['headphone', 'clocks', 'saw', 'microwave', 'toys']\n",
      "Куплено: {'carriage'}\n",
      "\n",
      "Пользователь: 560253391\n",
      "Рекомендовано: ['headphone', 'clocks', 'saw', 'microwave', 'carriage']\n",
      "Куплено: {'bicycle'}\n",
      "\n",
      "Пользователь: 546978709\n",
      "Рекомендовано: ['headphone', 'clocks', 'microwave', 'carriage', 'toys']\n",
      "Куплено: {'saw'}\n",
      "\n",
      "Пользователь: 517818554\n",
      "Рекомендовано: ['headphone', 'clocks', 'saw', 'microwave', 'toys']\n",
      "Куплено: {'carriage'}\n",
      "\n",
      "Пользователь: 516042399\n",
      "Рекомендовано: ['headphone', 'clocks', 'saw', 'microwave', 'toys']\n",
      "Куплено: {'carriage', 'swing'}\n",
      "\n",
      "Пользователь: 562164310\n",
      "Рекомендовано: ['headphone', 'clocks', 'saw', 'microwave', 'carriage']\n",
      "Куплено: {'bicycle'}\n",
      "\n",
      "Пользователь: 568622486\n",
      "Рекомендовано: ['headphone', 'clocks', 'microwave', 'carriage', 'toys']\n",
      "Куплено: {'saw'}\n"
     ]
    },
    {
     "data": {
      "text/markdown": [
       "---"
      ],
      "text/plain": [
       "<IPython.core.display.Markdown object>"
      ]
     },
     "metadata": {},
     "output_type": "display_data"
    },
    {
     "name": "stdout",
     "output_type": "stream",
     "text": [
      "CPU times: total: 1min 23s\n",
      "Wall time: 1min 20s\n"
     ]
    }
   ],
   "source": [
    "%%time\n",
    "K=5\n",
    "# Главный цикл\n",
    "#random.seed(42)\n",
    "prec = []\n",
    "for seg in set(ds['Segment']):\n",
    "    print(f'Сегмент: {seg}')\n",
    "    df = ds[ds['Segment']==seg]\n",
    "    df = toratings(df)\n",
    "    #print(df['rating'].max())\n",
    "        \n",
    "    reader = Reader(rating_scale=(1, df['rating'].max()))\n",
    "    data = Dataset.load_from_df(df, reader)\n",
    "\n",
    "    # Разработка рекомендательной системы с использованием Surprise\n",
    "    # Разделение данных на обучающий и тестовый наборы\n",
    "    trainset, testset = sp_train_test_split(data, test_size=0.2, random_state=42)\n",
    "    # Создание модели SVD\n",
    "    model = SVD(n_factors=500, n_epochs=1000, lr_all=0.00001, reg_all=0.02, random_state=42, biased=True, init_std_dev=0.01)\n",
    "    # Обучение модели на обучающем наборе\n",
    "    model.fit(trainset)\n",
    "    # Then predict ratings for all pairs (u, i) that are NOT in the training set.\n",
    "    testset = trainset.build_anti_testset()\n",
    "    predictions = model.test(testset)\n",
    "    top_n = get_top_n(predictions, n=K)\n",
    "    \n",
    "    # Получение прогнозов модели на тестовом наборе\n",
    "\n",
    "    # Расчет MAE и RMSE\n",
    "    mae = accuracy.mae(predictions, False)\n",
    "    mse = accuracy.mse(predictions, False)\n",
    "    rmse = accuracy.rmse(predictions, False)\n",
    "    #fcp = accuracy.fcp(predictions, False)\n",
    "    prec.append([seg, mae, mse, rmse])\n",
    "    \n",
    "    #print(f'MAE: {mae}')\n",
    "    #print(f'RMSE: {rmse}')\n",
    "\n",
    "    # Выдача рекомендаций на основе обученной модели\n",
    "    # После успешного обучения модели мы можем использовать ее для выдачи рекомендаций. \n",
    "    # Например, для пользователя с идентификатором user_id, мы можем получить топ N рекомендаций.\n",
    "    # Получение топ 5 рекомендаций для пользователя с идентификатором user_id\n",
    "\n",
    "    for id in random.sample(range(0, len(predictions)), 10):\n",
    "        user_id = predictions[id][0]\n",
    "        top_n = get_top_n(predictions, n=K)\n",
    "        # Вывод рекомендаций\n",
    "        for user, user_ratings in top_n.items():\n",
    "            if user == user_id:\n",
    "                already = set(dataset[(dataset[\"user_id\"]==user_id) & (dataset[\"event_type\"]==\"purchase\")][\"category_code_level2\"])\n",
    "                print(f'\\nПользователь: {user_id}')\n",
    "                print(f'Рекомендовано: {[item_id for item_id, rating in user_ratings if item_id not in already]}')\n",
    "                print(f'Куплено: {already}')\n",
    "    display(Markdown('---'))\n",
    "\n",
    "prec = pd.DataFrame(prec,columns=['Segment', 'MAE', 'MSE', 'RMSE'])\n",
    "#prec.reset_index('Segment', inplace=True)\n"
   ]
  },
  {
   "cell_type": "code",
   "execution_count": 15,
   "metadata": {},
   "outputs": [
    {
     "name": "stdout",
     "output_type": "stream",
     "text": [
      "SVD k=5\n"
     ]
    },
    {
     "data": {
      "text/html": [
       "<table border=\"1\" class=\"dataframe\">\n",
       "  <thead>\n",
       "    <tr style=\"text-align: right;\">\n",
       "      <th></th>\n",
       "      <th>0</th>\n",
       "      <th>1</th>\n",
       "      <th>2</th>\n",
       "      <th>3</th>\n",
       "      <th>4</th>\n",
       "      <th>5</th>\n",
       "      <th>6</th>\n",
       "      <th>7</th>\n",
       "      <th>8</th>\n",
       "      <th>9</th>\n",
       "      <th>10</th>\n",
       "      <th>11</th>\n",
       "      <th>12</th>\n",
       "    </tr>\n",
       "  </thead>\n",
       "  <tbody>\n",
       "    <tr>\n",
       "      <th>MAE</th>\n",
       "      <td>0.11</td>\n",
       "      <td>0.11</td>\n",
       "      <td>0.09</td>\n",
       "      <td>0.32</td>\n",
       "      <td>0.04</td>\n",
       "      <td>0.06</td>\n",
       "      <td>0.18</td>\n",
       "      <td>0.06</td>\n",
       "      <td>0.09</td>\n",
       "      <td>0.15</td>\n",
       "      <td>0.05</td>\n",
       "      <td>0.11</td>\n",
       "      <td>0.07</td>\n",
       "    </tr>\n",
       "    <tr>\n",
       "      <th>MSE</th>\n",
       "      <td>0.03</td>\n",
       "      <td>0.09</td>\n",
       "      <td>0.02</td>\n",
       "      <td>0.16</td>\n",
       "      <td>0.00</td>\n",
       "      <td>0.01</td>\n",
       "      <td>0.07</td>\n",
       "      <td>0.01</td>\n",
       "      <td>0.02</td>\n",
       "      <td>0.04</td>\n",
       "      <td>0.01</td>\n",
       "      <td>0.03</td>\n",
       "      <td>0.02</td>\n",
       "    </tr>\n",
       "    <tr>\n",
       "      <th>RMSE</th>\n",
       "      <td>0.18</td>\n",
       "      <td>0.30</td>\n",
       "      <td>0.14</td>\n",
       "      <td>0.39</td>\n",
       "      <td>0.06</td>\n",
       "      <td>0.09</td>\n",
       "      <td>0.27</td>\n",
       "      <td>0.09</td>\n",
       "      <td>0.14</td>\n",
       "      <td>0.21</td>\n",
       "      <td>0.08</td>\n",
       "      <td>0.16</td>\n",
       "      <td>0.13</td>\n",
       "    </tr>\n",
       "  </tbody>\n",
       "</table>"
      ],
      "text/plain": [
       "<IPython.core.display.HTML object>"
      ]
     },
     "metadata": {},
     "output_type": "display_data"
    },
    {
     "name": "stdout",
     "output_type": "stream",
     "text": [
      "MAE\t0.11\n",
      "MSE\t0.04\n",
      "RMSE\t0.17\n"
     ]
    }
   ],
   "source": [
    "prec = prec.drop(columns=['Segment'])\n",
    "print(f'SVD k={K}')\n",
    "from user_func import prdf\n",
    "prdf(prec.T)\n",
    "for col in prec.columns:\n",
    "    print(f'{col}\\t{prec[col].mean():.2f}')"
   ]
  },
  {
   "cell_type": "code",
   "execution_count": 16,
   "metadata": {},
   "outputs": [
    {
     "name": "stdout",
     "output_type": "stream",
     "text": [
      "1:23\n"
     ]
    }
   ],
   "source": [
    "seconds=int(time.time() - start_time)\n",
    "print(\"%d:%02d\" % (seconds//60, seconds-60*(seconds//60),))"
   ]
  },
  {
   "cell_type": "code",
   "execution_count": 17,
   "metadata": {},
   "outputs": [
    {
     "data": {
      "image/png": "[encoded data removed]",
      "text/plain": [
       "<Figure size 640x480 with 1 Axes>"
      ]
     },
     "metadata": {},
     "output_type": "display_data"
    }
   ],
   "source": [
    "plot = prec.plot(title=f'Метрики SVD при k={K}')\n",
    "fig = plot.get_figure()\n",
    "fig.savefig(f\"svdk{K}.png\", dpi=300, bbox_inches='tight')"
   ]
  },
  {
   "cell_type": "code",
   "execution_count": null,
   "metadata": {},
   "outputs": [],
   "source": []
  },
  {
   "cell_type": "raw",
   "metadata": {},
   "source": [
    "    model = SVD(n_factors=500, n_epochs=1000, lr_all=0.005, reg_all=0.02, random_state=42, biased=True)\n",
    "MAE\t0.39\n",
    "MSE\t0.27\n",
    "RMSE\t0.51\n",
    "\n",
    "    model = SVD(n_factors=500, n_epochs=1000, lr_all=0.0005, reg_all=0.02, random_state=42, biased=True)\n",
    "MAE\t0.37\n",
    "MSE\t0.24\n",
    "RMSE\t0.47\n",
    "\n",
    "    model = SVD(n_factors=500, n_epochs=1000, lr_all=0.00001, reg_all=0.02, random_state=42, biased=True)\n",
    "MAE\t0.23\n",
    "MSE\t0.09\n",
    "RMSE\t0.29\n",
    "\n",
    "    model = SVD(n_factors=500, n_epochs=1000, lr_all=0.00001, reg_all=0.02, random_state=42, biased=True, init_std_dev=0.01)\n",
    "MAE\t0.11\n",
    "MSE\t0.04\n",
    "RMSE\t0.17\n",
    "\n",
    "    model = SVD(n_factors=500, n_epochs=1000, lr_all=0.00001, reg_all=0.01, random_state=42, biased=True, init_std_dev=0.01)\n",
    "MAE\t0.11\n",
    "MSE\t0.04\n",
    "RMSE\t0.17\n"
   ]
  }
 ],
 "metadata": {
  "kaggle": {
   "accelerator": "none",
   "dataSources": [
    {
     "datasetId": 411512,
     "sourceId": 835452,
     "sourceType": "datasetVersion"
    }
   ],
   "dockerImageVersionId": 30635,
   "isGpuEnabled": false,
   "isInternetEnabled": true,
   "language": "python",
   "sourceType": "notebook"
  },
  "kernelspec": {
   "display_name": "Python 3 (ipykernel)",
   "language": "python",
   "name": "python3"
  },
  "language_info": {
   "codemirror_mode": {
    "name": "ipython",
    "version": 3
   },
   "file_extension": ".py",
   "mimetype": "text/x-python",
   "name": "python",
   "nbconvert_exporter": "python",
   "pygments_lexer": "ipython3",
   "version": "3.11.9"
  },
  "widgets": {
   "application/vnd.jupyter.widget-state+json": {
    "state": {},
    "version_major": 2,
    "version_minor": 0
   }
  }
 },
 "nbformat": 4,
 "nbformat_minor": 4
}
